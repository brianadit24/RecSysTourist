{
  "nbformat": 4,
  "nbformat_minor": 0,
  "metadata": {
    "colab": {
      "name": "RecSys Tourist on Jogja.ipynb",
      "provenance": [],
      "collapsed_sections": [],
      "authorship_tag": "ABX9TyMaFXtwy29LFrxxyROme7Nn",
      "include_colab_link": true
    },
    "kernelspec": {
      "name": "python3",
      "display_name": "Python 3"
    },
    "language_info": {
      "name": "python"
    }
  },
  "cells": [
    {
      "cell_type": "markdown",
      "metadata": {
        "id": "view-in-github",
        "colab_type": "text"
      },
      "source": [
        "<a href=\"https://colab.research.google.com/github/brianadit24/RecSysTourist/blob/main/RecSys_Tourist_on_Jogja.ipynb\" target=\"_parent\"><img src=\"https://colab.research.google.com/assets/colab-badge.svg\" alt=\"Open In Colab\"/></a>"
      ]
    },
    {
      "cell_type": "markdown",
      "metadata": {
        "id": "PLrtoF51-SoT"
      },
      "source": [
        "# Import Module"
      ]
    },
    {
      "cell_type": "code",
      "metadata": {
        "id": "_CXzwN59bqF5"
      },
      "source": [
        "import pandas as pd\n",
        "import numpy as np\n",
        "import tensorflow as tf\n",
        "from sklearn.preprocessing import MinMaxScaler"
      ],
      "execution_count": 2,
      "outputs": []
    },
    {
      "cell_type": "code",
      "metadata": {
        "id": "Odhoay9acXDH"
      },
      "source": [
        "rating = pd.read_csv('ratings.csv')\n",
        "destination = pd.read_csv('dataset.csv', index_col='index')"
      ],
      "execution_count": 30,
      "outputs": []
    },
    {
      "cell_type": "markdown",
      "metadata": {
        "id": "ee2O_xUYIp7q"
      },
      "source": [
        "# Dataset Info"
      ]
    },
    {
      "cell_type": "code",
      "metadata": {
        "colab": {
          "base_uri": "https://localhost:8080/",
          "height": 204
        },
        "id": "99l2O5bncgyt",
        "outputId": "fd902b9e-ff0d-4d35-9aa9-1a41a7c6ab55"
      },
      "source": [
        "rating.head()"
      ],
      "execution_count": null,
      "outputs": [
        {
          "output_type": "execute_result",
          "data": {
            "text/html": [
              "<div>\n",
              "<style scoped>\n",
              "    .dataframe tbody tr th:only-of-type {\n",
              "        vertical-align: middle;\n",
              "    }\n",
              "\n",
              "    .dataframe tbody tr th {\n",
              "        vertical-align: top;\n",
              "    }\n",
              "\n",
              "    .dataframe thead th {\n",
              "        text-align: right;\n",
              "    }\n",
              "</style>\n",
              "<table border=\"1\" class=\"dataframe\">\n",
              "  <thead>\n",
              "    <tr style=\"text-align: right;\">\n",
              "      <th></th>\n",
              "      <th>user_id</th>\n",
              "      <th>index</th>\n",
              "      <th>ratings</th>\n",
              "    </tr>\n",
              "  </thead>\n",
              "  <tbody>\n",
              "    <tr>\n",
              "      <th>0</th>\n",
              "      <td>1</td>\n",
              "      <td>31</td>\n",
              "      <td>1</td>\n",
              "    </tr>\n",
              "    <tr>\n",
              "      <th>1</th>\n",
              "      <td>1</td>\n",
              "      <td>29</td>\n",
              "      <td>5</td>\n",
              "    </tr>\n",
              "    <tr>\n",
              "      <th>2</th>\n",
              "      <td>1</td>\n",
              "      <td>91</td>\n",
              "      <td>4</td>\n",
              "    </tr>\n",
              "    <tr>\n",
              "      <th>3</th>\n",
              "      <td>1</td>\n",
              "      <td>3</td>\n",
              "      <td>4</td>\n",
              "    </tr>\n",
              "    <tr>\n",
              "      <th>4</th>\n",
              "      <td>1</td>\n",
              "      <td>37</td>\n",
              "      <td>1</td>\n",
              "    </tr>\n",
              "  </tbody>\n",
              "</table>\n",
              "</div>"
            ],
            "text/plain": [
              "   user_id  index  ratings\n",
              "0        1     31        1\n",
              "1        1     29        5\n",
              "2        1     91        4\n",
              "3        1      3        4\n",
              "4        1     37        1"
            ]
          },
          "metadata": {
            "tags": []
          },
          "execution_count": 44
        }
      ]
    },
    {
      "cell_type": "code",
      "metadata": {
        "colab": {
          "base_uri": "https://localhost:8080/",
          "height": 541
        },
        "id": "bhLAz_a0ciD0",
        "outputId": "7870dcae-b3e7-4fcf-c0a4-27b57aad4f68"
      },
      "source": [
        "destination.head()"
      ],
      "execution_count": 31,
      "outputs": [
        {
          "output_type": "execute_result",
          "data": {
            "text/html": [
              "<div>\n",
              "<style scoped>\n",
              "    .dataframe tbody tr th:only-of-type {\n",
              "        vertical-align: middle;\n",
              "    }\n",
              "\n",
              "    .dataframe tbody tr th {\n",
              "        vertical-align: top;\n",
              "    }\n",
              "\n",
              "    .dataframe thead th {\n",
              "        text-align: right;\n",
              "    }\n",
              "</style>\n",
              "<table border=\"1\" class=\"dataframe\">\n",
              "  <thead>\n",
              "    <tr style=\"text-align: right;\">\n",
              "      <th></th>\n",
              "      <th>nama</th>\n",
              "      <th>vote_average</th>\n",
              "      <th>vote_count</th>\n",
              "      <th>type</th>\n",
              "      <th>htm_weekday</th>\n",
              "      <th>htm_weekend</th>\n",
              "      <th>latitude</th>\n",
              "      <th>longitude</th>\n",
              "      <th>description</th>\n",
              "    </tr>\n",
              "    <tr>\n",
              "      <th>index</th>\n",
              "      <th></th>\n",
              "      <th></th>\n",
              "      <th></th>\n",
              "      <th></th>\n",
              "      <th></th>\n",
              "      <th></th>\n",
              "      <th></th>\n",
              "      <th></th>\n",
              "      <th></th>\n",
              "    </tr>\n",
              "  </thead>\n",
              "  <tbody>\n",
              "    <tr>\n",
              "      <th>0</th>\n",
              "      <td>Candi Borobudur</td>\n",
              "      <td>4.7</td>\n",
              "      <td>81922</td>\n",
              "      <td>Budaya dan Sejarah</td>\n",
              "      <td>50000.0</td>\n",
              "      <td>50000.0</td>\n",
              "      <td>-7.607087</td>\n",
              "      <td>110.203623</td>\n",
              "      <td>Candi yang pernah masuk sebagai salah satu dar...</td>\n",
              "    </tr>\n",
              "    <tr>\n",
              "      <th>1</th>\n",
              "      <td>Candi Prambanan</td>\n",
              "      <td>4.7</td>\n",
              "      <td>71751</td>\n",
              "      <td>Budaya dan Sejarah</td>\n",
              "      <td>50000.0</td>\n",
              "      <td>50000.0</td>\n",
              "      <td>-7.751835</td>\n",
              "      <td>110.491532</td>\n",
              "      <td>Candi Prambanan adalah kompleks candi Hindu te...</td>\n",
              "    </tr>\n",
              "    <tr>\n",
              "      <th>2</th>\n",
              "      <td>Tebing Breksi</td>\n",
              "      <td>4.4</td>\n",
              "      <td>51431</td>\n",
              "      <td>Alam</td>\n",
              "      <td>10000.0</td>\n",
              "      <td>10000.0</td>\n",
              "      <td>-7.781477</td>\n",
              "      <td>110.504576</td>\n",
              "      <td>Tebing Breksi merupakan tempat wisata yang ber...</td>\n",
              "    </tr>\n",
              "    <tr>\n",
              "      <th>3</th>\n",
              "      <td>Gembira Loka Zoo</td>\n",
              "      <td>4.5</td>\n",
              "      <td>36337</td>\n",
              "      <td>Buatan</td>\n",
              "      <td>20000.0</td>\n",
              "      <td>25000.0</td>\n",
              "      <td>-7.806234</td>\n",
              "      <td>110.396798</td>\n",
              "      <td>Gambira Loka adalah kebun binatang yang berada...</td>\n",
              "    </tr>\n",
              "    <tr>\n",
              "      <th>4</th>\n",
              "      <td>The Palace of Yogyakarta (Keraton Yogyakarta)</td>\n",
              "      <td>4.6</td>\n",
              "      <td>30091</td>\n",
              "      <td>Budaya dan Sejarah</td>\n",
              "      <td>8000.0</td>\n",
              "      <td>8000.0</td>\n",
              "      <td>-7.805284</td>\n",
              "      <td>110.364203</td>\n",
              "      <td>Kompleks keraton merupakan museum yang menyimp...</td>\n",
              "    </tr>\n",
              "  </tbody>\n",
              "</table>\n",
              "</div>"
            ],
            "text/plain": [
              "                                                nama  ...                                        description\n",
              "index                                                 ...                                                   \n",
              "0                                    Candi Borobudur  ...  Candi yang pernah masuk sebagai salah satu dar...\n",
              "1                                    Candi Prambanan  ...  Candi Prambanan adalah kompleks candi Hindu te...\n",
              "2                                      Tebing Breksi  ...  Tebing Breksi merupakan tempat wisata yang ber...\n",
              "3                                   Gembira Loka Zoo  ...  Gambira Loka adalah kebun binatang yang berada...\n",
              "4      The Palace of Yogyakarta (Keraton Yogyakarta)  ...  Kompleks keraton merupakan museum yang menyimp...\n",
              "\n",
              "[5 rows x 9 columns]"
            ]
          },
          "metadata": {
            "tags": []
          },
          "execution_count": 31
        }
      ]
    },
    {
      "cell_type": "code",
      "metadata": {
        "id": "rphQaB9ucsvC",
        "colab": {
          "base_uri": "https://localhost:8080/"
        },
        "outputId": "1812d07c-1b8b-4a64-d573-b17688a01866"
      },
      "source": [
        "rating.info()"
      ],
      "execution_count": null,
      "outputs": [
        {
          "output_type": "stream",
          "text": [
            "<class 'pandas.core.frame.DataFrame'>\n",
            "RangeIndex: 15029 entries, 0 to 15028\n",
            "Data columns (total 3 columns):\n",
            " #   Column   Non-Null Count  Dtype\n",
            "---  ------   --------------  -----\n",
            " 0   user_id  15029 non-null  int64\n",
            " 1   index    15029 non-null  int64\n",
            " 2   ratings  15029 non-null  int64\n",
            "dtypes: int64(3)\n",
            "memory usage: 352.4 KB\n"
          ],
          "name": "stdout"
        }
      ]
    },
    {
      "cell_type": "code",
      "metadata": {
        "colab": {
          "base_uri": "https://localhost:8080/"
        },
        "id": "QxAbcFYJI0ZW",
        "outputId": "7c394bdf-4271-4bbb-adf1-4fd70160231b"
      },
      "source": [
        "destination.info()"
      ],
      "execution_count": null,
      "outputs": [
        {
          "output_type": "stream",
          "text": [
            "<class 'pandas.core.frame.DataFrame'>\n",
            "RangeIndex: 142 entries, 0 to 141\n",
            "Data columns (total 10 columns):\n",
            " #   Column        Non-Null Count  Dtype  \n",
            "---  ------        --------------  -----  \n",
            " 0   index         142 non-null    int64  \n",
            " 1   nama          142 non-null    object \n",
            " 2   vote_average  142 non-null    float64\n",
            " 3   vote_count    142 non-null    int64  \n",
            " 4   type          142 non-null    object \n",
            " 5   htm_weekday   128 non-null    float64\n",
            " 6   htm_weekend   125 non-null    float64\n",
            " 7   latitude      142 non-null    float64\n",
            " 8   longitude     142 non-null    float64\n",
            " 9   description   142 non-null    object \n",
            "dtypes: float64(5), int64(2), object(3)\n",
            "memory usage: 11.2+ KB\n"
          ],
          "name": "stdout"
        }
      ]
    },
    {
      "cell_type": "code",
      "metadata": {
        "colab": {
          "base_uri": "https://localhost:8080/",
          "height": 419
        },
        "id": "AIercxM5I4Gn",
        "outputId": "85820ff2-857a-4d92-88c1-7751f050f786"
      },
      "source": [
        "dest_rating = pd.merge(rating, destination, on='index')\n",
        "cols = ['vote_average', 'vote_count', 'type', 'htm_weekday', 'htm_weekend', 'latitude', 'longitude', 'description']\n",
        "dest_rating.drop(cols, axis=1, inplace=True)\n",
        "dest_rating.sort_values(\"user_id\")"
      ],
      "execution_count": 43,
      "outputs": [
        {
          "output_type": "execute_result",
          "data": {
            "text/html": [
              "<div>\n",
              "<style scoped>\n",
              "    .dataframe tbody tr th:only-of-type {\n",
              "        vertical-align: middle;\n",
              "    }\n",
              "\n",
              "    .dataframe tbody tr th {\n",
              "        vertical-align: top;\n",
              "    }\n",
              "\n",
              "    .dataframe thead th {\n",
              "        text-align: right;\n",
              "    }\n",
              "</style>\n",
              "<table border=\"1\" class=\"dataframe\">\n",
              "  <thead>\n",
              "    <tr style=\"text-align: right;\">\n",
              "      <th></th>\n",
              "      <th>user_id</th>\n",
              "      <th>index</th>\n",
              "      <th>ratings</th>\n",
              "      <th>nama</th>\n",
              "    </tr>\n",
              "  </thead>\n",
              "  <tbody>\n",
              "    <tr>\n",
              "      <th>0</th>\n",
              "      <td>1</td>\n",
              "      <td>31</td>\n",
              "      <td>1</td>\n",
              "      <td>De Mata Trick Eye Museum</td>\n",
              "    </tr>\n",
              "    <tr>\n",
              "      <th>91</th>\n",
              "      <td>1</td>\n",
              "      <td>29</td>\n",
              "      <td>5</td>\n",
              "      <td>Agro Tourism Bhumi Merapi</td>\n",
              "    </tr>\n",
              "    <tr>\n",
              "      <th>92</th>\n",
              "      <td>1</td>\n",
              "      <td>29</td>\n",
              "      <td>2</td>\n",
              "      <td>Agro Tourism Bhumi Merapi</td>\n",
              "    </tr>\n",
              "    <tr>\n",
              "      <th>752</th>\n",
              "      <td>1</td>\n",
              "      <td>68</td>\n",
              "      <td>2</td>\n",
              "      <td>Balong Waterpark</td>\n",
              "    </tr>\n",
              "    <tr>\n",
              "      <th>200</th>\n",
              "      <td>1</td>\n",
              "      <td>91</td>\n",
              "      <td>4</td>\n",
              "      <td>Kids Fun Galleria Mall</td>\n",
              "    </tr>\n",
              "    <tr>\n",
              "      <th>...</th>\n",
              "      <td>...</td>\n",
              "      <td>...</td>\n",
              "      <td>...</td>\n",
              "      <td>...</td>\n",
              "    </tr>\n",
              "    <tr>\n",
              "      <th>8730</th>\n",
              "      <td>1000</td>\n",
              "      <td>66</td>\n",
              "      <td>3</td>\n",
              "      <td>Bukit Lintang Sewu</td>\n",
              "    </tr>\n",
              "    <tr>\n",
              "      <th>14000</th>\n",
              "      <td>1000</td>\n",
              "      <td>104</td>\n",
              "      <td>5</td>\n",
              "      <td>Museum Sandi</td>\n",
              "    </tr>\n",
              "    <tr>\n",
              "      <th>10345</th>\n",
              "      <td>1000</td>\n",
              "      <td>59</td>\n",
              "      <td>4</td>\n",
              "      <td>Pantai Sepanjang</td>\n",
              "    </tr>\n",
              "    <tr>\n",
              "      <th>2205</th>\n",
              "      <td>1000</td>\n",
              "      <td>69</td>\n",
              "      <td>1</td>\n",
              "      <td>Kids Fun Park (Pusat)</td>\n",
              "    </tr>\n",
              "    <tr>\n",
              "      <th>6486</th>\n",
              "      <td>1000</td>\n",
              "      <td>134</td>\n",
              "      <td>2</td>\n",
              "      <td>Tebing Gunung Gajah</td>\n",
              "    </tr>\n",
              "  </tbody>\n",
              "</table>\n",
              "<p>15029 rows × 4 columns</p>\n",
              "</div>"
            ],
            "text/plain": [
              "       user_id  index  ratings                       nama\n",
              "0            1     31        1   De Mata Trick Eye Museum\n",
              "91           1     29        5  Agro Tourism Bhumi Merapi\n",
              "92           1     29        2  Agro Tourism Bhumi Merapi\n",
              "752          1     68        2           Balong Waterpark\n",
              "200          1     91        4     Kids Fun Galleria Mall\n",
              "...        ...    ...      ...                        ...\n",
              "8730      1000     66        3         Bukit Lintang Sewu\n",
              "14000     1000    104        5               Museum Sandi\n",
              "10345     1000     59        4           Pantai Sepanjang\n",
              "2205      1000     69        1      Kids Fun Park (Pusat)\n",
              "6486      1000    134        2        Tebing Gunung Gajah\n",
              "\n",
              "[15029 rows x 4 columns]"
            ]
          },
          "metadata": {
            "tags": []
          },
          "execution_count": 43
        }
      ]
    },
    {
      "cell_type": "markdown",
      "metadata": {
        "id": "R-UzMBeHJzB0"
      },
      "source": [
        "# Content Base Filtering"
      ]
    },
    {
      "cell_type": "code",
      "metadata": {
        "colab": {
          "base_uri": "https://localhost:8080/"
        },
        "id": "Ei_Ekv-xR3gU",
        "outputId": "558a22ee-667a-448a-c98a-2992cc0b284c"
      },
      "source": [
        "import nltk\n",
        "nltk.download('punkt')"
      ],
      "execution_count": 1,
      "outputs": [
        {
          "output_type": "stream",
          "text": [
            "[nltk_data] Downloading package punkt to /root/nltk_data...\n",
            "[nltk_data]   Unzipping tokenizers/punkt.zip.\n"
          ],
          "name": "stdout"
        },
        {
          "output_type": "execute_result",
          "data": {
            "text/plain": [
              "True"
            ]
          },
          "metadata": {
            "tags": []
          },
          "execution_count": 1
        }
      ]
    },
    {
      "cell_type": "code",
      "metadata": {
        "id": "U8-Fk-oFSzv5"
      },
      "source": [
        "import pandas as pd\n",
        "from sklearn.feature_extraction.text import CountVectorizer\n",
        "from nltk.tokenize import word_tokenize"
      ],
      "execution_count": 4,
      "outputs": []
    },
    {
      "cell_type": "code",
      "metadata": {
        "colab": {
          "base_uri": "https://localhost:8080/",
          "height": 510
        },
        "id": "7_Wi-51rTIAh",
        "outputId": "977619d2-5494-4b24-9300-5200d94d7a7a"
      },
      "source": [
        "destination.head()"
      ],
      "execution_count": 5,
      "outputs": [
        {
          "output_type": "execute_result",
          "data": {
            "text/html": [
              "<div>\n",
              "<style scoped>\n",
              "    .dataframe tbody tr th:only-of-type {\n",
              "        vertical-align: middle;\n",
              "    }\n",
              "\n",
              "    .dataframe tbody tr th {\n",
              "        vertical-align: top;\n",
              "    }\n",
              "\n",
              "    .dataframe thead th {\n",
              "        text-align: right;\n",
              "    }\n",
              "</style>\n",
              "<table border=\"1\" class=\"dataframe\">\n",
              "  <thead>\n",
              "    <tr style=\"text-align: right;\">\n",
              "      <th></th>\n",
              "      <th>index</th>\n",
              "      <th>nama</th>\n",
              "      <th>vote_average</th>\n",
              "      <th>vote_count</th>\n",
              "      <th>type</th>\n",
              "      <th>htm_weekday</th>\n",
              "      <th>htm_weekend</th>\n",
              "      <th>latitude</th>\n",
              "      <th>longitude</th>\n",
              "      <th>description</th>\n",
              "    </tr>\n",
              "  </thead>\n",
              "  <tbody>\n",
              "    <tr>\n",
              "      <th>0</th>\n",
              "      <td>0</td>\n",
              "      <td>Candi Borobudur</td>\n",
              "      <td>4.7</td>\n",
              "      <td>81922</td>\n",
              "      <td>Budaya dan Sejarah</td>\n",
              "      <td>50000.0</td>\n",
              "      <td>50000.0</td>\n",
              "      <td>-7.607087</td>\n",
              "      <td>110.203623</td>\n",
              "      <td>Candi yang pernah masuk sebagai salah satu dar...</td>\n",
              "    </tr>\n",
              "    <tr>\n",
              "      <th>1</th>\n",
              "      <td>1</td>\n",
              "      <td>Candi Prambanan</td>\n",
              "      <td>4.7</td>\n",
              "      <td>71751</td>\n",
              "      <td>Budaya dan Sejarah</td>\n",
              "      <td>50000.0</td>\n",
              "      <td>50000.0</td>\n",
              "      <td>-7.751835</td>\n",
              "      <td>110.491532</td>\n",
              "      <td>Candi Prambanan adalah kompleks candi Hindu te...</td>\n",
              "    </tr>\n",
              "    <tr>\n",
              "      <th>2</th>\n",
              "      <td>2</td>\n",
              "      <td>Tebing Breksi</td>\n",
              "      <td>4.4</td>\n",
              "      <td>51431</td>\n",
              "      <td>Alam</td>\n",
              "      <td>10000.0</td>\n",
              "      <td>10000.0</td>\n",
              "      <td>-7.781477</td>\n",
              "      <td>110.504576</td>\n",
              "      <td>Tebing Breksi merupakan tempat wisata yang ber...</td>\n",
              "    </tr>\n",
              "    <tr>\n",
              "      <th>3</th>\n",
              "      <td>3</td>\n",
              "      <td>Gembira Loka Zoo</td>\n",
              "      <td>4.5</td>\n",
              "      <td>36337</td>\n",
              "      <td>Buatan</td>\n",
              "      <td>20000.0</td>\n",
              "      <td>25000.0</td>\n",
              "      <td>-7.806234</td>\n",
              "      <td>110.396798</td>\n",
              "      <td>Gambira Loka adalah kebun binatang yang berada...</td>\n",
              "    </tr>\n",
              "    <tr>\n",
              "      <th>4</th>\n",
              "      <td>4</td>\n",
              "      <td>The Palace of Yogyakarta (Keraton Yogyakarta)</td>\n",
              "      <td>4.6</td>\n",
              "      <td>30091</td>\n",
              "      <td>Budaya dan Sejarah</td>\n",
              "      <td>8000.0</td>\n",
              "      <td>8000.0</td>\n",
              "      <td>-7.805284</td>\n",
              "      <td>110.364203</td>\n",
              "      <td>Kompleks keraton merupakan museum yang menyimp...</td>\n",
              "    </tr>\n",
              "  </tbody>\n",
              "</table>\n",
              "</div>"
            ],
            "text/plain": [
              "   index  ...                                        description\n",
              "0      0  ...  Candi yang pernah masuk sebagai salah satu dar...\n",
              "1      1  ...  Candi Prambanan adalah kompleks candi Hindu te...\n",
              "2      2  ...  Tebing Breksi merupakan tempat wisata yang ber...\n",
              "3      3  ...  Gambira Loka adalah kebun binatang yang berada...\n",
              "4      4  ...  Kompleks keraton merupakan museum yang menyimp...\n",
              "\n",
              "[5 rows x 10 columns]"
            ]
          },
          "metadata": {
            "tags": []
          },
          "execution_count": 5
        }
      ]
    },
    {
      "cell_type": "markdown",
      "metadata": {
        "id": "gR6krsuLU4hN"
      },
      "source": [
        "## Encode All Synopsis to Bank"
      ]
    },
    {
      "cell_type": "code",
      "metadata": {
        "id": "H9valtxaTQlk"
      },
      "source": [
        "bow = CountVectorizer(tokenizer=word_tokenize)\n",
        "bank = bow.fit_transform(destination.description)"
      ],
      "execution_count": 9,
      "outputs": []
    },
    {
      "cell_type": "markdown",
      "metadata": {
        "id": "BXBZVTtlVEwN"
      },
      "source": [
        "## Step 1 : Encode what user watch"
      ]
    },
    {
      "cell_type": "code",
      "metadata": {
        "id": "_TFz9AajUtkU"
      },
      "source": [
        "idx = 0"
      ],
      "execution_count": 10,
      "outputs": []
    },
    {
      "cell_type": "code",
      "metadata": {
        "colab": {
          "base_uri": "https://localhost:8080/",
          "height": 52
        },
        "id": "dw7oDdKXU_Ep",
        "outputId": "904588c7-b158-40e9-f454-d48ae8bf5fbd"
      },
      "source": [
        "content = destination.loc[idx, \"description\"]\n",
        "content"
      ],
      "execution_count": 12,
      "outputs": [
        {
          "output_type": "execute_result",
          "data": {
            "application/vnd.google.colaboratory.intrinsic+json": {
              "type": "string"
            },
            "text/plain": [
              "'Candi yang pernah masuk sebagai salah satu dari Tujuh Keajaiban Dunia ini dihiasi oleh banyak relief di dinding candi. Relief yang ada di Candi Borobudur mencapai 2.672 dan panjangnya bisa mencapai 6 kilometer'"
            ]
          },
          "metadata": {
            "tags": []
          },
          "execution_count": 12
        }
      ]
    },
    {
      "cell_type": "code",
      "metadata": {
        "colab": {
          "base_uri": "https://localhost:8080/"
        },
        "id": "LzSJ13tyVLmj",
        "outputId": "68b4b218-5db3-41b5-b870-dc05c26b9cd1"
      },
      "source": [
        "code = bow.transform([content])\n",
        "code.toarray()"
      ],
      "execution_count": 14,
      "outputs": [
        {
          "output_type": "execute_result",
          "data": {
            "text/plain": [
              "array([[0, 0, 0, ..., 0, 0, 0]])"
            ]
          },
          "metadata": {
            "tags": []
          },
          "execution_count": 14
        }
      ]
    },
    {
      "cell_type": "markdown",
      "metadata": {
        "id": "yubS9gk4Vbj6"
      },
      "source": [
        "## Step 2: Document Search"
      ]
    },
    {
      "cell_type": "code",
      "metadata": {
        "id": "jloWLeefViXZ"
      },
      "source": [
        "from sklearn.metrics.pairwise import cosine_distances"
      ],
      "execution_count": 15,
      "outputs": []
    },
    {
      "cell_type": "code",
      "metadata": {
        "colab": {
          "base_uri": "https://localhost:8080/"
        },
        "id": "-rnC-LuNVrU8",
        "outputId": "5e32f6b2-05a5-48f5-9f17-09a31e7213e2"
      },
      "source": [
        "dist = cosine_distances(code, bank)\n",
        "dist"
      ],
      "execution_count": 16,
      "outputs": [
        {
          "output_type": "execute_result",
          "data": {
            "text/plain": [
              "array([[0.        , 0.59035598, 0.67697086, 0.8502479 , 0.77549337,\n",
              "        0.791122  , 0.67688484, 0.70103726, 0.76614641, 0.82337603,\n",
              "        0.79868094, 0.75381702, 0.69591818, 0.79587585, 0.6555405 ,\n",
              "        0.88129087, 0.84508067, 0.75485483, 0.69481069, 0.6680236 ,\n",
              "        0.63216903, 0.82109339, 0.82735773, 0.75256417, 0.75338999,\n",
              "        0.72222222, 0.78240293, 0.77917258, 0.58528898, 0.72860835,\n",
              "        0.72499045, 0.75769416, 0.6095008 , 0.77411867, 0.79911847,\n",
              "        0.76381125, 0.75266716, 0.71909968, 0.76793022, 0.74599975,\n",
              "        0.74379495, 0.71464945, 0.78498168, 0.89174682, 0.74523767,\n",
              "        0.75168352, 0.75945129, 0.70066696, 0.80372678, 0.91091292,\n",
              "        0.70984066, 0.90871291, 0.68484238, 0.66735043, 0.72531936,\n",
              "        0.77569114, 0.78464724, 0.79542073, 0.66321234, 0.75485483,\n",
              "        0.50257512, 0.78959365, 0.91116637, 0.71301799, 0.72808762,\n",
              "        0.77848059, 0.7369316 , 0.80949981, 0.7658419 , 1.        ,\n",
              "        0.78080135, 0.69734004, 0.84409761, 0.74135324, 0.71068122,\n",
              "        0.81835059, 0.54187715, 0.77830091, 0.67525007, 0.6897517 ,\n",
              "        0.71213995, 0.7233007 , 0.69475445, 0.89255831, 0.71424971,\n",
              "        0.67122031, 0.81360394, 0.78769806, 0.78240293, 0.8213683 ,\n",
              "        0.82223572, 0.74418006, 0.85698061, 0.84971665, 0.71296893,\n",
              "        0.7373244 , 0.73729653, 0.7608277 , 0.72689629, 0.68225555,\n",
              "        0.51492875, 0.87747549, 0.80988272, 0.76750472, 0.76549118,\n",
              "        0.67564566, 0.76185516, 0.80185152, 0.42522459, 0.69552862,\n",
              "        0.82592234, 0.78080135, 0.86474955, 0.66233112, 0.63421824,\n",
              "        0.723353  , 0.78180349, 0.77115357, 0.7695588 , 0.47677789,\n",
              "        0.74094818, 0.73586473, 0.74737663, 0.79587585, 0.70077813,\n",
              "        0.74135324, 0.89300988, 0.87725244, 0.90098525, 0.74555916,\n",
              "        0.75168352, 0.8425148 , 0.8236636 , 0.78435815, 0.80988272,\n",
              "        0.6798028 , 0.79176832, 1.        , 0.67780833, 0.82496499,\n",
              "        0.65389067, 0.80542759]])"
            ]
          },
          "metadata": {
            "tags": []
          },
          "execution_count": 16
        }
      ]
    },
    {
      "cell_type": "code",
      "metadata": {
        "colab": {
          "base_uri": "https://localhost:8080/"
        },
        "id": "0BG_HYZYVvI9",
        "outputId": "26f2dbcd-94a8-4800-92ac-d17f7bbd7bc7"
      },
      "source": [
        "rect_idx = dist.argsort()\n",
        "rect_idx"
      ],
      "execution_count": 37,
      "outputs": [
        {
          "output_type": "execute_result",
          "data": {
            "text/plain": [
              "array([[  0, 108, 119,  60, 100,  76,  28,   1,  32,  20, 114, 140,  14,\n",
              "        113,  58,  53,  19,  85,  78, 105,   6,   2, 138, 135,  99,  52,\n",
              "         79,  82,  18, 109,  12,  71,  47, 124,   7,  50,  74,  80,  94,\n",
              "         63,  84,  41,  37,  25,  81, 115,  30,  54,  98,  64,  29, 121,\n",
              "         66,  96,  95, 120,  73, 125,  40,  91,  44, 129,  39, 122,  45,\n",
              "        130,  23,  36,  24,  11,  59,  17,  31,  46,  97, 106,  35, 104,\n",
              "         68,   8, 103,  38, 118, 117,  33,   4,  55,  77,  65,  27, 111,\n",
              "         70, 116,  88,  26, 133,  56,  42,  87,  61,   5, 136,  57,  13,\n",
              "        123,  10,  34, 107,  48, 141,  67, 134, 102,  86,  75,  21,  89,\n",
              "         90,   9, 132, 139, 110,  22, 131,  72,  16,  93,   3,  92, 112,\n",
              "        127, 101,  15,  43,  83, 126, 128,  51,  49,  62,  69, 137]])"
            ]
          },
          "metadata": {
            "tags": []
          },
          "execution_count": 37
        }
      ]
    },
    {
      "cell_type": "markdown",
      "metadata": {
        "id": "BtRnbOUlV1XO"
      },
      "source": [
        "## Step 3: Recommend"
      ]
    },
    {
      "cell_type": "code",
      "metadata": {
        "colab": {
          "base_uri": "https://localhost:8080/",
          "height": 756
        },
        "id": "u4Jv21NAV6r-",
        "outputId": "f05faed3-a992-4e4d-a3dc-891cc9bb6177"
      },
      "source": [
        "destination.loc[rect_idx]"
      ],
      "execution_count": 18,
      "outputs": [
        {
          "output_type": "execute_result",
          "data": {
            "text/html": [
              "<div>\n",
              "<style scoped>\n",
              "    .dataframe tbody tr th:only-of-type {\n",
              "        vertical-align: middle;\n",
              "    }\n",
              "\n",
              "    .dataframe tbody tr th {\n",
              "        vertical-align: top;\n",
              "    }\n",
              "\n",
              "    .dataframe thead th {\n",
              "        text-align: right;\n",
              "    }\n",
              "</style>\n",
              "<table border=\"1\" class=\"dataframe\">\n",
              "  <thead>\n",
              "    <tr style=\"text-align: right;\">\n",
              "      <th></th>\n",
              "      <th>index</th>\n",
              "      <th>nama</th>\n",
              "      <th>vote_average</th>\n",
              "      <th>vote_count</th>\n",
              "      <th>type</th>\n",
              "      <th>htm_weekday</th>\n",
              "      <th>htm_weekend</th>\n",
              "      <th>latitude</th>\n",
              "      <th>longitude</th>\n",
              "      <th>description</th>\n",
              "    </tr>\n",
              "  </thead>\n",
              "  <tbody>\n",
              "    <tr>\n",
              "      <th>108</th>\n",
              "      <td>108</td>\n",
              "      <td>Candi Banyunibo</td>\n",
              "      <td>4.5</td>\n",
              "      <td>1151</td>\n",
              "      <td>Budaya dan Sejarah</td>\n",
              "      <td>5000.0</td>\n",
              "      <td>5000.0</td>\n",
              "      <td>-7.777901</td>\n",
              "      <td>110.494073</td>\n",
              "      <td>Candi Banyunibo adalah candi Buddha yang berad...</td>\n",
              "    </tr>\n",
              "    <tr>\n",
              "      <th>119</th>\n",
              "      <td>119</td>\n",
              "      <td>Candi Sari</td>\n",
              "      <td>4.5</td>\n",
              "      <td>938</td>\n",
              "      <td>Budaya dan Sejarah</td>\n",
              "      <td>2000.0</td>\n",
              "      <td>2000.0</td>\n",
              "      <td>-7.761558</td>\n",
              "      <td>110.474275</td>\n",
              "      <td>Candi Sari juga disebut Candi Bendah adalah ca...</td>\n",
              "    </tr>\n",
              "    <tr>\n",
              "      <th>60</th>\n",
              "      <td>60</td>\n",
              "      <td>Candi Sewu</td>\n",
              "      <td>4.6</td>\n",
              "      <td>2968</td>\n",
              "      <td>Budaya dan Sejarah</td>\n",
              "      <td>10000.0</td>\n",
              "      <td>10000.0</td>\n",
              "      <td>-7.743922</td>\n",
              "      <td>110.492909</td>\n",
              "      <td>Candi Sewu adalah candi Buddha yang dibangun p...</td>\n",
              "    </tr>\n",
              "    <tr>\n",
              "      <th>100</th>\n",
              "      <td>100</td>\n",
              "      <td>Candi Kalasan</td>\n",
              "      <td>4.5</td>\n",
              "      <td>1291</td>\n",
              "      <td>Budaya dan Sejarah</td>\n",
              "      <td>5000.0</td>\n",
              "      <td>5000.0</td>\n",
              "      <td>-7.767284</td>\n",
              "      <td>110.472350</td>\n",
              "      <td>Candi Kalasan adalah candi yang dipersembahkan...</td>\n",
              "    </tr>\n",
              "    <tr>\n",
              "      <th>76</th>\n",
              "      <td>76</td>\n",
              "      <td>Candi Sojiwan</td>\n",
              "      <td>4.5</td>\n",
              "      <td>2159</td>\n",
              "      <td>Budaya dan Sejarah</td>\n",
              "      <td>5000.0</td>\n",
              "      <td>5000.0</td>\n",
              "      <td>-7.760395</td>\n",
              "      <td>110.496201</td>\n",
              "      <td>Candi Sojiwan memiliki keunikan. Keunikan ini ...</td>\n",
              "    </tr>\n",
              "    <tr>\n",
              "      <th>28</th>\n",
              "      <td>28</td>\n",
              "      <td>Candi Plaosan</td>\n",
              "      <td>4.6</td>\n",
              "      <td>7855</td>\n",
              "      <td>Budaya dan Sejarah</td>\n",
              "      <td>3000.0</td>\n",
              "      <td>3000.0</td>\n",
              "      <td>-7.740781</td>\n",
              "      <td>110.504677</td>\n",
              "      <td>Candi Plaosan terletak di Desa Bugisan, Kecama...</td>\n",
              "    </tr>\n",
              "    <tr>\n",
              "      <th>1</th>\n",
              "      <td>1</td>\n",
              "      <td>Candi Prambanan</td>\n",
              "      <td>4.7</td>\n",
              "      <td>71751</td>\n",
              "      <td>Budaya dan Sejarah</td>\n",
              "      <td>50000.0</td>\n",
              "      <td>50000.0</td>\n",
              "      <td>-7.751835</td>\n",
              "      <td>110.491532</td>\n",
              "      <td>Candi Prambanan adalah kompleks candi Hindu te...</td>\n",
              "    </tr>\n",
              "    <tr>\n",
              "      <th>32</th>\n",
              "      <td>32</td>\n",
              "      <td>Candi Sambisari</td>\n",
              "      <td>4.6</td>\n",
              "      <td>6238</td>\n",
              "      <td>Budaya dan Sejarah</td>\n",
              "      <td>5000.0</td>\n",
              "      <td>5000.0</td>\n",
              "      <td>-7.762491</td>\n",
              "      <td>110.447037</td>\n",
              "      <td>Candi Sambisari adalah Candi Hindu yang berada...</td>\n",
              "    </tr>\n",
              "    <tr>\n",
              "      <th>20</th>\n",
              "      <td>20</td>\n",
              "      <td>Depok Beach</td>\n",
              "      <td>4.3</td>\n",
              "      <td>10820</td>\n",
              "      <td>Pantai</td>\n",
              "      <td>10000.0</td>\n",
              "      <td>10000.0</td>\n",
              "      <td>-8.013709</td>\n",
              "      <td>110.291478</td>\n",
              "      <td>Pantai Depok yang letaknya hanya 1,5 km dari P...</td>\n",
              "    </tr>\n",
              "  </tbody>\n",
              "</table>\n",
              "</div>"
            ],
            "text/plain": [
              "     index  ...                                        description\n",
              "108    108  ...  Candi Banyunibo adalah candi Buddha yang berad...\n",
              "119    119  ...  Candi Sari juga disebut Candi Bendah adalah ca...\n",
              "60      60  ...  Candi Sewu adalah candi Buddha yang dibangun p...\n",
              "100    100  ...  Candi Kalasan adalah candi yang dipersembahkan...\n",
              "76      76  ...  Candi Sojiwan memiliki keunikan. Keunikan ini ...\n",
              "28      28  ...  Candi Plaosan terletak di Desa Bugisan, Kecama...\n",
              "1        1  ...  Candi Prambanan adalah kompleks candi Hindu te...\n",
              "32      32  ...  Candi Sambisari adalah Candi Hindu yang berada...\n",
              "20      20  ...  Pantai Depok yang letaknya hanya 1,5 km dari P...\n",
              "\n",
              "[9 rows x 10 columns]"
            ]
          },
          "metadata": {
            "tags": []
          },
          "execution_count": 18
        }
      ]
    },
    {
      "cell_type": "markdown",
      "metadata": {
        "id": "6vJJ9U3xV9ps"
      },
      "source": [
        "## ML Engineering: Content Base Filtering"
      ]
    },
    {
      "cell_type": "code",
      "metadata": {
        "id": "VGtSXpJHXQRJ"
      },
      "source": [
        "class ContentRecSys:\n",
        "    def __init__(self, data, content_col, index_col=None):\n",
        "        self.df = pd.read_csv(data, index_col=index_col)\n",
        "        self.content_col = content_col\n",
        "        self.encoder = None\n",
        "        self.bank = None\n",
        "\n",
        "    def fit(self):\n",
        "        self.encoder = CountVectorizer(tokenizer=word_tokenize)\n",
        "        self.bank = self.encoder.fit_transform(self.df[self.content_col])\n",
        "\n",
        "    def recommend(self, idx, topk=10):\n",
        "        content = self.df.loc[idx, self.content_col]\n",
        "        code = self.encoder.transform([content])\n",
        "        dist = cosine_distances(code, self.bank)\n",
        "        rect_idx = dist.argsort()[0, 1:(topk+1)]\n",
        "        return self.df.loc[rect_idx]"
      ],
      "execution_count": 33,
      "outputs": []
    },
    {
      "cell_type": "markdown",
      "metadata": {
        "id": "u-IBMECIZbQv"
      },
      "source": [
        "## Testing Content Base Filtering"
      ]
    },
    {
      "cell_type": "code",
      "metadata": {
        "id": "wS4P2HZyZggX"
      },
      "source": [
        "conrecsys = ContentRecSys(data=\"dataset.csv\", content_col=\"description\", index_col='index')\n",
        "conrecsys.fit()"
      ],
      "execution_count": 34,
      "outputs": []
    },
    {
      "cell_type": "code",
      "metadata": {
        "colab": {
          "base_uri": "https://localhost:8080/",
          "height": 985
        },
        "id": "VIBTMhGYZ2P7",
        "outputId": "eeaf6c9f-7fae-4dfb-b4b9-1b0baabc2d95"
      },
      "source": [
        "conrecsys.recommend(20) # Depok Beach"
      ],
      "execution_count": 35,
      "outputs": [
        {
          "output_type": "execute_result",
          "data": {
            "text/html": [
              "<div>\n",
              "<style scoped>\n",
              "    .dataframe tbody tr th:only-of-type {\n",
              "        vertical-align: middle;\n",
              "    }\n",
              "\n",
              "    .dataframe tbody tr th {\n",
              "        vertical-align: top;\n",
              "    }\n",
              "\n",
              "    .dataframe thead th {\n",
              "        text-align: right;\n",
              "    }\n",
              "</style>\n",
              "<table border=\"1\" class=\"dataframe\">\n",
              "  <thead>\n",
              "    <tr style=\"text-align: right;\">\n",
              "      <th></th>\n",
              "      <th>nama</th>\n",
              "      <th>vote_average</th>\n",
              "      <th>vote_count</th>\n",
              "      <th>type</th>\n",
              "      <th>htm_weekday</th>\n",
              "      <th>htm_weekend</th>\n",
              "      <th>latitude</th>\n",
              "      <th>longitude</th>\n",
              "      <th>description</th>\n",
              "    </tr>\n",
              "    <tr>\n",
              "      <th>index</th>\n",
              "      <th></th>\n",
              "      <th></th>\n",
              "      <th></th>\n",
              "      <th></th>\n",
              "      <th></th>\n",
              "      <th></th>\n",
              "      <th></th>\n",
              "      <th></th>\n",
              "      <th></th>\n",
              "    </tr>\n",
              "  </thead>\n",
              "  <tbody>\n",
              "    <tr>\n",
              "      <th>58</th>\n",
              "      <td>Pantai Ngandong</td>\n",
              "      <td>4.5</td>\n",
              "      <td>3151</td>\n",
              "      <td>Pantai</td>\n",
              "      <td>10000.0</td>\n",
              "      <td>10000.0</td>\n",
              "      <td>-8.146423</td>\n",
              "      <td>110.606141</td>\n",
              "      <td>Pantai ini memiliki garis pantai yang panjang ...</td>\n",
              "    </tr>\n",
              "    <tr>\n",
              "      <th>96</th>\n",
              "      <td>Pantai Ngrumput</td>\n",
              "      <td>4.6</td>\n",
              "      <td>1437</td>\n",
              "      <td>Pantai</td>\n",
              "      <td>10000.0</td>\n",
              "      <td>10000.0</td>\n",
              "      <td>-8.140383</td>\n",
              "      <td>110.583124</td>\n",
              "      <td>Pantai Ngrumput memang kalah pamor dengan Para...</td>\n",
              "    </tr>\n",
              "    <tr>\n",
              "      <th>52</th>\n",
              "      <td>Pantai Pok Tunggal</td>\n",
              "      <td>4.5</td>\n",
              "      <td>3467</td>\n",
              "      <td>Pantai</td>\n",
              "      <td>10000.0</td>\n",
              "      <td>10000.0</td>\n",
              "      <td>-8.155447</td>\n",
              "      <td>110.621758</td>\n",
              "      <td>Pantai Pok Tunggal adalah salah satu pantai po...</td>\n",
              "    </tr>\n",
              "    <tr>\n",
              "      <th>82</th>\n",
              "      <td>Pantai Ngrenehan</td>\n",
              "      <td>4.4</td>\n",
              "      <td>1876</td>\n",
              "      <td>Pantai</td>\n",
              "      <td>5000.0</td>\n",
              "      <td>5000.0</td>\n",
              "      <td>-8.121148</td>\n",
              "      <td>110.514234</td>\n",
              "      <td>Pantai Ngrenehan merupakan pantai nelayan. Ter...</td>\n",
              "    </tr>\n",
              "    <tr>\n",
              "      <th>64</th>\n",
              "      <td>Pantai Timang</td>\n",
              "      <td>4.5</td>\n",
              "      <td>2656</td>\n",
              "      <td>Pantai</td>\n",
              "      <td>5000.0</td>\n",
              "      <td>5000.0</td>\n",
              "      <td>-8.175927</td>\n",
              "      <td>110.662420</td>\n",
              "      <td>Begitu memasuki wilayah pantai, pengunjung aka...</td>\n",
              "    </tr>\n",
              "    <tr>\n",
              "      <th>109</th>\n",
              "      <td>Pantai Nglolang</td>\n",
              "      <td>4.3</td>\n",
              "      <td>1123</td>\n",
              "      <td>Pantai</td>\n",
              "      <td>10000.0</td>\n",
              "      <td>10000.0</td>\n",
              "      <td>-8.136005</td>\n",
              "      <td>110.562855</td>\n",
              "      <td>Pantai ini sangat indah dengan pasir putih dan...</td>\n",
              "    </tr>\n",
              "    <tr>\n",
              "      <th>135</th>\n",
              "      <td>Bukit Pengilon</td>\n",
              "      <td>4.6</td>\n",
              "      <td>439</td>\n",
              "      <td>Alam</td>\n",
              "      <td>5000.0</td>\n",
              "      <td>5000.0</td>\n",
              "      <td>-8.185459</td>\n",
              "      <td>110.691722</td>\n",
              "      <td>Nama bukit Pengilon berasal dari bahasa Jawa y...</td>\n",
              "    </tr>\n",
              "    <tr>\n",
              "      <th>97</th>\n",
              "      <td>Pantai Ngedan</td>\n",
              "      <td>4.4</td>\n",
              "      <td>1382</td>\n",
              "      <td>Pantai</td>\n",
              "      <td>5000.0</td>\n",
              "      <td>5000.0</td>\n",
              "      <td>-8.116342</td>\n",
              "      <td>110.496336</td>\n",
              "      <td>Pantai Ngeden atau Ngedan yang terletak di Des...</td>\n",
              "    </tr>\n",
              "    <tr>\n",
              "      <th>105</th>\n",
              "      <td>Bukit Teletubbies</td>\n",
              "      <td>4.1</td>\n",
              "      <td>1173</td>\n",
              "      <td>Alam</td>\n",
              "      <td>2000.0</td>\n",
              "      <td>2000.0</td>\n",
              "      <td>-7.818127</td>\n",
              "      <td>110.511764</td>\n",
              "      <td>Wisata satu ini merupakan wisata yang lokasiny...</td>\n",
              "    </tr>\n",
              "    <tr>\n",
              "      <th>53</th>\n",
              "      <td>Pantai Ngobaran</td>\n",
              "      <td>4.5</td>\n",
              "      <td>3288</td>\n",
              "      <td>Pantai, Budaya dan Sejarah</td>\n",
              "      <td>5000.0</td>\n",
              "      <td>5000.0</td>\n",
              "      <td>-8.119133</td>\n",
              "      <td>110.505041</td>\n",
              "      <td>Keunikan yang menjadi ciri khas Pantai Ngobara...</td>\n",
              "    </tr>\n",
              "  </tbody>\n",
              "</table>\n",
              "</div>"
            ],
            "text/plain": [
              "                     nama  ...                                        description\n",
              "index                      ...                                                   \n",
              "58        Pantai Ngandong  ...  Pantai ini memiliki garis pantai yang panjang ...\n",
              "96        Pantai Ngrumput  ...  Pantai Ngrumput memang kalah pamor dengan Para...\n",
              "52     Pantai Pok Tunggal  ...  Pantai Pok Tunggal adalah salah satu pantai po...\n",
              "82       Pantai Ngrenehan  ...  Pantai Ngrenehan merupakan pantai nelayan. Ter...\n",
              "64          Pantai Timang  ...  Begitu memasuki wilayah pantai, pengunjung aka...\n",
              "109       Pantai Nglolang  ...  Pantai ini sangat indah dengan pasir putih dan...\n",
              "135        Bukit Pengilon  ...  Nama bukit Pengilon berasal dari bahasa Jawa y...\n",
              "97          Pantai Ngedan  ...  Pantai Ngeden atau Ngedan yang terletak di Des...\n",
              "105     Bukit Teletubbies  ...  Wisata satu ini merupakan wisata yang lokasiny...\n",
              "53        Pantai Ngobaran  ...  Keunikan yang menjadi ciri khas Pantai Ngobara...\n",
              "\n",
              "[10 rows x 9 columns]"
            ]
          },
          "metadata": {
            "tags": []
          },
          "execution_count": 35
        }
      ]
    },
    {
      "cell_type": "code",
      "metadata": {
        "colab": {
          "base_uri": "https://localhost:8080/",
          "height": 1000
        },
        "id": "gaDw5QqpZ898",
        "outputId": "8d5d99b5-bad7-4c06-8e28-0630835cd7a9"
      },
      "source": [
        "conrecsys.recommend(4) # Keraton Jogja"
      ],
      "execution_count": 36,
      "outputs": [
        {
          "output_type": "execute_result",
          "data": {
            "text/html": [
              "<div>\n",
              "<style scoped>\n",
              "    .dataframe tbody tr th:only-of-type {\n",
              "        vertical-align: middle;\n",
              "    }\n",
              "\n",
              "    .dataframe tbody tr th {\n",
              "        vertical-align: top;\n",
              "    }\n",
              "\n",
              "    .dataframe thead th {\n",
              "        text-align: right;\n",
              "    }\n",
              "</style>\n",
              "<table border=\"1\" class=\"dataframe\">\n",
              "  <thead>\n",
              "    <tr style=\"text-align: right;\">\n",
              "      <th></th>\n",
              "      <th>nama</th>\n",
              "      <th>vote_average</th>\n",
              "      <th>vote_count</th>\n",
              "      <th>type</th>\n",
              "      <th>htm_weekday</th>\n",
              "      <th>htm_weekend</th>\n",
              "      <th>latitude</th>\n",
              "      <th>longitude</th>\n",
              "      <th>description</th>\n",
              "    </tr>\n",
              "    <tr>\n",
              "      <th>index</th>\n",
              "      <th></th>\n",
              "      <th></th>\n",
              "      <th></th>\n",
              "      <th></th>\n",
              "      <th></th>\n",
              "      <th></th>\n",
              "      <th></th>\n",
              "      <th></th>\n",
              "      <th></th>\n",
              "    </tr>\n",
              "  </thead>\n",
              "  <tbody>\n",
              "    <tr>\n",
              "      <th>86</th>\n",
              "      <td>Puncak Kebun Buah Mangunan</td>\n",
              "      <td>4.6</td>\n",
              "      <td>1773</td>\n",
              "      <td>Agrowisata</td>\n",
              "      <td>8000.0</td>\n",
              "      <td>8000.0</td>\n",
              "      <td>-7.941372</td>\n",
              "      <td>110.424734</td>\n",
              "      <td>Objek wisata ini menawarkan keindahan berupa p...</td>\n",
              "    </tr>\n",
              "    <tr>\n",
              "      <th>15</th>\n",
              "      <td>Pantai Goa Cemara</td>\n",
              "      <td>4.3</td>\n",
              "      <td>12755</td>\n",
              "      <td>Pantai</td>\n",
              "      <td>4000.0</td>\n",
              "      <td>4000.0</td>\n",
              "      <td>-7.999423</td>\n",
              "      <td>110.248963</td>\n",
              "      <td>Adalah Kawasan Wisata Terpadu, satu pintu deng...</td>\n",
              "    </tr>\n",
              "    <tr>\n",
              "      <th>136</th>\n",
              "      <td>Taman Tempuran Cikal</td>\n",
              "      <td>4.4</td>\n",
              "      <td>294</td>\n",
              "      <td>Alam, Wisata Air</td>\n",
              "      <td>10000.0</td>\n",
              "      <td>NaN</td>\n",
              "      <td>-7.840562</td>\n",
              "      <td>110.449455</td>\n",
              "      <td>Taman Tempuran Cikal terletak di kecamatan Piy...</td>\n",
              "    </tr>\n",
              "    <tr>\n",
              "      <th>84</th>\n",
              "      <td>Affandi Museum</td>\n",
              "      <td>4.6</td>\n",
              "      <td>1848</td>\n",
              "      <td>Budaya dan Sejarah, Museum</td>\n",
              "      <td>30000.0</td>\n",
              "      <td>30000.0</td>\n",
              "      <td>-7.782713</td>\n",
              "      <td>110.396397</td>\n",
              "      <td>Museum Affandi merupakan salah satu museum sen...</td>\n",
              "    </tr>\n",
              "    <tr>\n",
              "      <th>88</th>\n",
              "      <td>Museum Sonobudoyo Unit I</td>\n",
              "      <td>4.6</td>\n",
              "      <td>1711</td>\n",
              "      <td>Budaya dan Sejarah, Museum</td>\n",
              "      <td>3000.0</td>\n",
              "      <td>3000.0</td>\n",
              "      <td>-7.802450</td>\n",
              "      <td>110.363955</td>\n",
              "      <td>useum Sonobudoyo unit pertama yang ada di deka...</td>\n",
              "    </tr>\n",
              "    <tr>\n",
              "      <th>85</th>\n",
              "      <td>Museum Monumen Pangeran Diponegoro</td>\n",
              "      <td>4.4</td>\n",
              "      <td>1778</td>\n",
              "      <td>Budaya dan Sejarah, Museum</td>\n",
              "      <td>NaN</td>\n",
              "      <td>NaN</td>\n",
              "      <td>-7.786589</td>\n",
              "      <td>110.351447</td>\n",
              "      <td>Museum Monumen Pangeran Diponegoro adalah muse...</td>\n",
              "    </tr>\n",
              "    <tr>\n",
              "      <th>65</th>\n",
              "      <td>Museum HM Soeharto</td>\n",
              "      <td>4.4</td>\n",
              "      <td>2628</td>\n",
              "      <td>Museum, Budaya dan Sejarah</td>\n",
              "      <td>NaN</td>\n",
              "      <td>NaN</td>\n",
              "      <td>-7.791318</td>\n",
              "      <td>110.280528</td>\n",
              "      <td>Museum Soeharto adalah adalah bangunan berBuda...</td>\n",
              "    </tr>\n",
              "    <tr>\n",
              "      <th>90</th>\n",
              "      <td>Kawasan Pantai Baron</td>\n",
              "      <td>4.4</td>\n",
              "      <td>1698</td>\n",
              "      <td>Alam</td>\n",
              "      <td>10000.0</td>\n",
              "      <td>10000.0</td>\n",
              "      <td>-8.128825</td>\n",
              "      <td>110.548776</td>\n",
              "      <td>Objek wisata Pantai Baron merupakan pantai yan...</td>\n",
              "    </tr>\n",
              "    <tr>\n",
              "      <th>67</th>\n",
              "      <td>Grand Puri Waterpark</td>\n",
              "      <td>4.2</td>\n",
              "      <td>2440</td>\n",
              "      <td>Wisata Air</td>\n",
              "      <td>35000.0</td>\n",
              "      <td>35000.0</td>\n",
              "      <td>-7.877766</td>\n",
              "      <td>110.352078</td>\n",
              "      <td>Grand Puri Waterpark Yogya berlokasi di daerah...</td>\n",
              "    </tr>\n",
              "    <tr>\n",
              "      <th>9</th>\n",
              "      <td>The Lost World Castle</td>\n",
              "      <td>4.3</td>\n",
              "      <td>16110</td>\n",
              "      <td>Buatan, Alam</td>\n",
              "      <td>30000.0</td>\n",
              "      <td>30000.0</td>\n",
              "      <td>-7.604165</td>\n",
              "      <td>110.451004</td>\n",
              "      <td>Di dalam The Lost World Casle, pengunjung disu...</td>\n",
              "    </tr>\n",
              "  </tbody>\n",
              "</table>\n",
              "</div>"
            ],
            "text/plain": [
              "                                     nama  ...                                        description\n",
              "index                                      ...                                                   \n",
              "86             Puncak Kebun Buah Mangunan  ...  Objek wisata ini menawarkan keindahan berupa p...\n",
              "15                      Pantai Goa Cemara  ...  Adalah Kawasan Wisata Terpadu, satu pintu deng...\n",
              "136                  Taman Tempuran Cikal  ...  Taman Tempuran Cikal terletak di kecamatan Piy...\n",
              "84                         Affandi Museum  ...  Museum Affandi merupakan salah satu museum sen...\n",
              "88               Museum Sonobudoyo Unit I  ...  useum Sonobudoyo unit pertama yang ada di deka...\n",
              "85     Museum Monumen Pangeran Diponegoro  ...  Museum Monumen Pangeran Diponegoro adalah muse...\n",
              "65                     Museum HM Soeharto  ...  Museum Soeharto adalah adalah bangunan berBuda...\n",
              "90                   Kawasan Pantai Baron  ...  Objek wisata Pantai Baron merupakan pantai yan...\n",
              "67                   Grand Puri Waterpark  ...  Grand Puri Waterpark Yogya berlokasi di daerah...\n",
              "9                   The Lost World Castle  ...  Di dalam The Lost World Casle, pengunjung disu...\n",
              "\n",
              "[10 rows x 9 columns]"
            ]
          },
          "metadata": {
            "tags": []
          },
          "execution_count": 36
        }
      ]
    },
    {
      "cell_type": "code",
      "metadata": {
        "id": "wCM3y8dQegGT"
      },
      "source": [
        ""
      ],
      "execution_count": null,
      "outputs": []
    }
  ]
}