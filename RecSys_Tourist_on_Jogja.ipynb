{
  "nbformat": 4,
  "nbformat_minor": 0,
  "metadata": {
    "colab": {
      "name": "RecSys Tourist on Jogja.ipynb",
      "provenance": [],
      "collapsed_sections": [],
      "toc_visible": true,
      "authorship_tag": "ABX9TyMCXlUos1041O3Vls4UdWl7",
      "include_colab_link": true
    },
    "kernelspec": {
      "name": "python3",
      "display_name": "Python 3"
    },
    "language_info": {
      "name": "python"
    }
  },
  "cells": [
    {
      "cell_type": "markdown",
      "metadata": {
        "id": "view-in-github",
        "colab_type": "text"
      },
      "source": [
        "<a href=\"https://colab.research.google.com/github/brianadit24/RecSysTourist/blob/main/RecSys_Tourist_on_Jogja.ipynb\" target=\"_parent\"><img src=\"https://colab.research.google.com/assets/colab-badge.svg\" alt=\"Open In Colab\"/></a>"
      ]
    },
    {
      "cell_type": "markdown",
      "metadata": {
        "id": "PLrtoF51-SoT"
      },
      "source": [
        "# Import Module"
      ]
    },
    {
      "cell_type": "code",
      "metadata": {
        "id": "_CXzwN59bqF5"
      },
      "source": [
        "import pandas as pd\n",
        "import numpy as np\n",
        "import tensorflow as tf\n",
        "from sklearn.preprocessing import MinMaxScaler"
      ],
      "execution_count": 1,
      "outputs": []
    },
    {
      "cell_type": "code",
      "metadata": {
        "id": "Odhoay9acXDH"
      },
      "source": [
        "rating = pd.read_csv('ratings.csv')\n",
        "destination = pd.read_csv('dataset.csv')"
      ],
      "execution_count": 3,
      "outputs": []
    },
    {
      "cell_type": "markdown",
      "metadata": {
        "id": "ee2O_xUYIp7q"
      },
      "source": [
        "# Dataset Info"
      ]
    },
    {
      "cell_type": "code",
      "metadata": {
        "colab": {
          "base_uri": "https://localhost:8080/",
          "height": 204
        },
        "id": "99l2O5bncgyt",
        "outputId": "fd902b9e-ff0d-4d35-9aa9-1a41a7c6ab55"
      },
      "source": [
        "rating.head()"
      ],
      "execution_count": null,
      "outputs": [
        {
          "output_type": "execute_result",
          "data": {
            "text/html": [
              "<div>\n",
              "<style scoped>\n",
              "    .dataframe tbody tr th:only-of-type {\n",
              "        vertical-align: middle;\n",
              "    }\n",
              "\n",
              "    .dataframe tbody tr th {\n",
              "        vertical-align: top;\n",
              "    }\n",
              "\n",
              "    .dataframe thead th {\n",
              "        text-align: right;\n",
              "    }\n",
              "</style>\n",
              "<table border=\"1\" class=\"dataframe\">\n",
              "  <thead>\n",
              "    <tr style=\"text-align: right;\">\n",
              "      <th></th>\n",
              "      <th>user_id</th>\n",
              "      <th>index</th>\n",
              "      <th>ratings</th>\n",
              "    </tr>\n",
              "  </thead>\n",
              "  <tbody>\n",
              "    <tr>\n",
              "      <th>0</th>\n",
              "      <td>1</td>\n",
              "      <td>31</td>\n",
              "      <td>1</td>\n",
              "    </tr>\n",
              "    <tr>\n",
              "      <th>1</th>\n",
              "      <td>1</td>\n",
              "      <td>29</td>\n",
              "      <td>5</td>\n",
              "    </tr>\n",
              "    <tr>\n",
              "      <th>2</th>\n",
              "      <td>1</td>\n",
              "      <td>91</td>\n",
              "      <td>4</td>\n",
              "    </tr>\n",
              "    <tr>\n",
              "      <th>3</th>\n",
              "      <td>1</td>\n",
              "      <td>3</td>\n",
              "      <td>4</td>\n",
              "    </tr>\n",
              "    <tr>\n",
              "      <th>4</th>\n",
              "      <td>1</td>\n",
              "      <td>37</td>\n",
              "      <td>1</td>\n",
              "    </tr>\n",
              "  </tbody>\n",
              "</table>\n",
              "</div>"
            ],
            "text/plain": [
              "   user_id  index  ratings\n",
              "0        1     31        1\n",
              "1        1     29        5\n",
              "2        1     91        4\n",
              "3        1      3        4\n",
              "4        1     37        1"
            ]
          },
          "metadata": {
            "tags": []
          },
          "execution_count": 44
        }
      ]
    },
    {
      "cell_type": "code",
      "metadata": {
        "colab": {
          "base_uri": "https://localhost:8080/",
          "height": 541
        },
        "id": "bhLAz_a0ciD0",
        "outputId": "7870dcae-b3e7-4fcf-c0a4-27b57aad4f68"
      },
      "source": [
        "destination.head()"
      ],
      "execution_count": 31,
      "outputs": [
        {
          "output_type": "execute_result",
          "data": {
            "text/html": [
              "<div>\n",
              "<style scoped>\n",
              "    .dataframe tbody tr th:only-of-type {\n",
              "        vertical-align: middle;\n",
              "    }\n",
              "\n",
              "    .dataframe tbody tr th {\n",
              "        vertical-align: top;\n",
              "    }\n",
              "\n",
              "    .dataframe thead th {\n",
              "        text-align: right;\n",
              "    }\n",
              "</style>\n",
              "<table border=\"1\" class=\"dataframe\">\n",
              "  <thead>\n",
              "    <tr style=\"text-align: right;\">\n",
              "      <th></th>\n",
              "      <th>nama</th>\n",
              "      <th>vote_average</th>\n",
              "      <th>vote_count</th>\n",
              "      <th>type</th>\n",
              "      <th>htm_weekday</th>\n",
              "      <th>htm_weekend</th>\n",
              "      <th>latitude</th>\n",
              "      <th>longitude</th>\n",
              "      <th>description</th>\n",
              "    </tr>\n",
              "    <tr>\n",
              "      <th>index</th>\n",
              "      <th></th>\n",
              "      <th></th>\n",
              "      <th></th>\n",
              "      <th></th>\n",
              "      <th></th>\n",
              "      <th></th>\n",
              "      <th></th>\n",
              "      <th></th>\n",
              "      <th></th>\n",
              "    </tr>\n",
              "  </thead>\n",
              "  <tbody>\n",
              "    <tr>\n",
              "      <th>0</th>\n",
              "      <td>Candi Borobudur</td>\n",
              "      <td>4.7</td>\n",
              "      <td>81922</td>\n",
              "      <td>Budaya dan Sejarah</td>\n",
              "      <td>50000.0</td>\n",
              "      <td>50000.0</td>\n",
              "      <td>-7.607087</td>\n",
              "      <td>110.203623</td>\n",
              "      <td>Candi yang pernah masuk sebagai salah satu dar...</td>\n",
              "    </tr>\n",
              "    <tr>\n",
              "      <th>1</th>\n",
              "      <td>Candi Prambanan</td>\n",
              "      <td>4.7</td>\n",
              "      <td>71751</td>\n",
              "      <td>Budaya dan Sejarah</td>\n",
              "      <td>50000.0</td>\n",
              "      <td>50000.0</td>\n",
              "      <td>-7.751835</td>\n",
              "      <td>110.491532</td>\n",
              "      <td>Candi Prambanan adalah kompleks candi Hindu te...</td>\n",
              "    </tr>\n",
              "    <tr>\n",
              "      <th>2</th>\n",
              "      <td>Tebing Breksi</td>\n",
              "      <td>4.4</td>\n",
              "      <td>51431</td>\n",
              "      <td>Alam</td>\n",
              "      <td>10000.0</td>\n",
              "      <td>10000.0</td>\n",
              "      <td>-7.781477</td>\n",
              "      <td>110.504576</td>\n",
              "      <td>Tebing Breksi merupakan tempat wisata yang ber...</td>\n",
              "    </tr>\n",
              "    <tr>\n",
              "      <th>3</th>\n",
              "      <td>Gembira Loka Zoo</td>\n",
              "      <td>4.5</td>\n",
              "      <td>36337</td>\n",
              "      <td>Buatan</td>\n",
              "      <td>20000.0</td>\n",
              "      <td>25000.0</td>\n",
              "      <td>-7.806234</td>\n",
              "      <td>110.396798</td>\n",
              "      <td>Gambira Loka adalah kebun binatang yang berada...</td>\n",
              "    </tr>\n",
              "    <tr>\n",
              "      <th>4</th>\n",
              "      <td>The Palace of Yogyakarta (Keraton Yogyakarta)</td>\n",
              "      <td>4.6</td>\n",
              "      <td>30091</td>\n",
              "      <td>Budaya dan Sejarah</td>\n",
              "      <td>8000.0</td>\n",
              "      <td>8000.0</td>\n",
              "      <td>-7.805284</td>\n",
              "      <td>110.364203</td>\n",
              "      <td>Kompleks keraton merupakan museum yang menyimp...</td>\n",
              "    </tr>\n",
              "  </tbody>\n",
              "</table>\n",
              "</div>"
            ],
            "text/plain": [
              "                                                nama  ...                                        description\n",
              "index                                                 ...                                                   \n",
              "0                                    Candi Borobudur  ...  Candi yang pernah masuk sebagai salah satu dar...\n",
              "1                                    Candi Prambanan  ...  Candi Prambanan adalah kompleks candi Hindu te...\n",
              "2                                      Tebing Breksi  ...  Tebing Breksi merupakan tempat wisata yang ber...\n",
              "3                                   Gembira Loka Zoo  ...  Gambira Loka adalah kebun binatang yang berada...\n",
              "4      The Palace of Yogyakarta (Keraton Yogyakarta)  ...  Kompleks keraton merupakan museum yang menyimp...\n",
              "\n",
              "[5 rows x 9 columns]"
            ]
          },
          "metadata": {
            "tags": []
          },
          "execution_count": 31
        }
      ]
    },
    {
      "cell_type": "code",
      "metadata": {
        "id": "rphQaB9ucsvC",
        "colab": {
          "base_uri": "https://localhost:8080/"
        },
        "outputId": "1812d07c-1b8b-4a64-d573-b17688a01866"
      },
      "source": [
        "rating.info()"
      ],
      "execution_count": null,
      "outputs": [
        {
          "output_type": "stream",
          "text": [
            "<class 'pandas.core.frame.DataFrame'>\n",
            "RangeIndex: 15029 entries, 0 to 15028\n",
            "Data columns (total 3 columns):\n",
            " #   Column   Non-Null Count  Dtype\n",
            "---  ------   --------------  -----\n",
            " 0   user_id  15029 non-null  int64\n",
            " 1   index    15029 non-null  int64\n",
            " 2   ratings  15029 non-null  int64\n",
            "dtypes: int64(3)\n",
            "memory usage: 352.4 KB\n"
          ],
          "name": "stdout"
        }
      ]
    },
    {
      "cell_type": "code",
      "metadata": {
        "colab": {
          "base_uri": "https://localhost:8080/"
        },
        "id": "QxAbcFYJI0ZW",
        "outputId": "7c394bdf-4271-4bbb-adf1-4fd70160231b"
      },
      "source": [
        "destination.info()"
      ],
      "execution_count": null,
      "outputs": [
        {
          "output_type": "stream",
          "text": [
            "<class 'pandas.core.frame.DataFrame'>\n",
            "RangeIndex: 142 entries, 0 to 141\n",
            "Data columns (total 10 columns):\n",
            " #   Column        Non-Null Count  Dtype  \n",
            "---  ------        --------------  -----  \n",
            " 0   index         142 non-null    int64  \n",
            " 1   nama          142 non-null    object \n",
            " 2   vote_average  142 non-null    float64\n",
            " 3   vote_count    142 non-null    int64  \n",
            " 4   type          142 non-null    object \n",
            " 5   htm_weekday   128 non-null    float64\n",
            " 6   htm_weekend   125 non-null    float64\n",
            " 7   latitude      142 non-null    float64\n",
            " 8   longitude     142 non-null    float64\n",
            " 9   description   142 non-null    object \n",
            "dtypes: float64(5), int64(2), object(3)\n",
            "memory usage: 11.2+ KB\n"
          ],
          "name": "stdout"
        }
      ]
    },
    {
      "cell_type": "markdown",
      "metadata": {
        "id": "R-UzMBeHJzB0"
      },
      "source": [
        "# Content Base Filtering"
      ]
    },
    {
      "cell_type": "code",
      "metadata": {
        "colab": {
          "base_uri": "https://localhost:8080/"
        },
        "id": "Ei_Ekv-xR3gU",
        "outputId": "558a22ee-667a-448a-c98a-2992cc0b284c"
      },
      "source": [
        "import nltk\n",
        "nltk.download('punkt')"
      ],
      "execution_count": 1,
      "outputs": [
        {
          "output_type": "stream",
          "text": [
            "[nltk_data] Downloading package punkt to /root/nltk_data...\n",
            "[nltk_data]   Unzipping tokenizers/punkt.zip.\n"
          ],
          "name": "stdout"
        },
        {
          "output_type": "execute_result",
          "data": {
            "text/plain": [
              "True"
            ]
          },
          "metadata": {
            "tags": []
          },
          "execution_count": 1
        }
      ]
    },
    {
      "cell_type": "code",
      "metadata": {
        "id": "U8-Fk-oFSzv5"
      },
      "source": [
        "import pandas as pd\n",
        "from sklearn.feature_extraction.text import CountVectorizer\n",
        "from nltk.tokenize import word_tokenize"
      ],
      "execution_count": 4,
      "outputs": []
    },
    {
      "cell_type": "code",
      "metadata": {
        "colab": {
          "base_uri": "https://localhost:8080/",
          "height": 510
        },
        "id": "7_Wi-51rTIAh",
        "outputId": "977619d2-5494-4b24-9300-5200d94d7a7a"
      },
      "source": [
        "destination.head()"
      ],
      "execution_count": 5,
      "outputs": [
        {
          "output_type": "execute_result",
          "data": {
            "text/html": [
              "<div>\n",
              "<style scoped>\n",
              "    .dataframe tbody tr th:only-of-type {\n",
              "        vertical-align: middle;\n",
              "    }\n",
              "\n",
              "    .dataframe tbody tr th {\n",
              "        vertical-align: top;\n",
              "    }\n",
              "\n",
              "    .dataframe thead th {\n",
              "        text-align: right;\n",
              "    }\n",
              "</style>\n",
              "<table border=\"1\" class=\"dataframe\">\n",
              "  <thead>\n",
              "    <tr style=\"text-align: right;\">\n",
              "      <th></th>\n",
              "      <th>index</th>\n",
              "      <th>nama</th>\n",
              "      <th>vote_average</th>\n",
              "      <th>vote_count</th>\n",
              "      <th>type</th>\n",
              "      <th>htm_weekday</th>\n",
              "      <th>htm_weekend</th>\n",
              "      <th>latitude</th>\n",
              "      <th>longitude</th>\n",
              "      <th>description</th>\n",
              "    </tr>\n",
              "  </thead>\n",
              "  <tbody>\n",
              "    <tr>\n",
              "      <th>0</th>\n",
              "      <td>0</td>\n",
              "      <td>Candi Borobudur</td>\n",
              "      <td>4.7</td>\n",
              "      <td>81922</td>\n",
              "      <td>Budaya dan Sejarah</td>\n",
              "      <td>50000.0</td>\n",
              "      <td>50000.0</td>\n",
              "      <td>-7.607087</td>\n",
              "      <td>110.203623</td>\n",
              "      <td>Candi yang pernah masuk sebagai salah satu dar...</td>\n",
              "    </tr>\n",
              "    <tr>\n",
              "      <th>1</th>\n",
              "      <td>1</td>\n",
              "      <td>Candi Prambanan</td>\n",
              "      <td>4.7</td>\n",
              "      <td>71751</td>\n",
              "      <td>Budaya dan Sejarah</td>\n",
              "      <td>50000.0</td>\n",
              "      <td>50000.0</td>\n",
              "      <td>-7.751835</td>\n",
              "      <td>110.491532</td>\n",
              "      <td>Candi Prambanan adalah kompleks candi Hindu te...</td>\n",
              "    </tr>\n",
              "    <tr>\n",
              "      <th>2</th>\n",
              "      <td>2</td>\n",
              "      <td>Tebing Breksi</td>\n",
              "      <td>4.4</td>\n",
              "      <td>51431</td>\n",
              "      <td>Alam</td>\n",
              "      <td>10000.0</td>\n",
              "      <td>10000.0</td>\n",
              "      <td>-7.781477</td>\n",
              "      <td>110.504576</td>\n",
              "      <td>Tebing Breksi merupakan tempat wisata yang ber...</td>\n",
              "    </tr>\n",
              "    <tr>\n",
              "      <th>3</th>\n",
              "      <td>3</td>\n",
              "      <td>Gembira Loka Zoo</td>\n",
              "      <td>4.5</td>\n",
              "      <td>36337</td>\n",
              "      <td>Buatan</td>\n",
              "      <td>20000.0</td>\n",
              "      <td>25000.0</td>\n",
              "      <td>-7.806234</td>\n",
              "      <td>110.396798</td>\n",
              "      <td>Gambira Loka adalah kebun binatang yang berada...</td>\n",
              "    </tr>\n",
              "    <tr>\n",
              "      <th>4</th>\n",
              "      <td>4</td>\n",
              "      <td>The Palace of Yogyakarta (Keraton Yogyakarta)</td>\n",
              "      <td>4.6</td>\n",
              "      <td>30091</td>\n",
              "      <td>Budaya dan Sejarah</td>\n",
              "      <td>8000.0</td>\n",
              "      <td>8000.0</td>\n",
              "      <td>-7.805284</td>\n",
              "      <td>110.364203</td>\n",
              "      <td>Kompleks keraton merupakan museum yang menyimp...</td>\n",
              "    </tr>\n",
              "  </tbody>\n",
              "</table>\n",
              "</div>"
            ],
            "text/plain": [
              "   index  ...                                        description\n",
              "0      0  ...  Candi yang pernah masuk sebagai salah satu dar...\n",
              "1      1  ...  Candi Prambanan adalah kompleks candi Hindu te...\n",
              "2      2  ...  Tebing Breksi merupakan tempat wisata yang ber...\n",
              "3      3  ...  Gambira Loka adalah kebun binatang yang berada...\n",
              "4      4  ...  Kompleks keraton merupakan museum yang menyimp...\n",
              "\n",
              "[5 rows x 10 columns]"
            ]
          },
          "metadata": {
            "tags": []
          },
          "execution_count": 5
        }
      ]
    },
    {
      "cell_type": "markdown",
      "metadata": {
        "id": "gR6krsuLU4hN"
      },
      "source": [
        "## Encode All Synopsis to Bank"
      ]
    },
    {
      "cell_type": "code",
      "metadata": {
        "id": "H9valtxaTQlk"
      },
      "source": [
        "bow = CountVectorizer(tokenizer=word_tokenize)\n",
        "bank = bow.fit_transform(destination.description)"
      ],
      "execution_count": 9,
      "outputs": []
    },
    {
      "cell_type": "markdown",
      "metadata": {
        "id": "BXBZVTtlVEwN"
      },
      "source": [
        "## Step 1 : Encode what user watch"
      ]
    },
    {
      "cell_type": "code",
      "metadata": {
        "id": "_TFz9AajUtkU"
      },
      "source": [
        "idx = 0"
      ],
      "execution_count": 10,
      "outputs": []
    },
    {
      "cell_type": "code",
      "metadata": {
        "colab": {
          "base_uri": "https://localhost:8080/",
          "height": 52
        },
        "id": "dw7oDdKXU_Ep",
        "outputId": "904588c7-b158-40e9-f454-d48ae8bf5fbd"
      },
      "source": [
        "content = destination.loc[idx, \"description\"]\n",
        "content"
      ],
      "execution_count": 12,
      "outputs": [
        {
          "output_type": "execute_result",
          "data": {
            "application/vnd.google.colaboratory.intrinsic+json": {
              "type": "string"
            },
            "text/plain": [
              "'Candi yang pernah masuk sebagai salah satu dari Tujuh Keajaiban Dunia ini dihiasi oleh banyak relief di dinding candi. Relief yang ada di Candi Borobudur mencapai 2.672 dan panjangnya bisa mencapai 6 kilometer'"
            ]
          },
          "metadata": {
            "tags": []
          },
          "execution_count": 12
        }
      ]
    },
    {
      "cell_type": "code",
      "metadata": {
        "colab": {
          "base_uri": "https://localhost:8080/"
        },
        "id": "LzSJ13tyVLmj",
        "outputId": "68b4b218-5db3-41b5-b870-dc05c26b9cd1"
      },
      "source": [
        "code = bow.transform([content])\n",
        "code.toarray()"
      ],
      "execution_count": 14,
      "outputs": [
        {
          "output_type": "execute_result",
          "data": {
            "text/plain": [
              "array([[0, 0, 0, ..., 0, 0, 0]])"
            ]
          },
          "metadata": {
            "tags": []
          },
          "execution_count": 14
        }
      ]
    },
    {
      "cell_type": "markdown",
      "metadata": {
        "id": "yubS9gk4Vbj6"
      },
      "source": [
        "## Step 2: Document Search"
      ]
    },
    {
      "cell_type": "code",
      "metadata": {
        "id": "jloWLeefViXZ"
      },
      "source": [
        "from sklearn.metrics.pairwise import cosine_distances"
      ],
      "execution_count": 15,
      "outputs": []
    },
    {
      "cell_type": "code",
      "metadata": {
        "colab": {
          "base_uri": "https://localhost:8080/"
        },
        "id": "-rnC-LuNVrU8",
        "outputId": "5e32f6b2-05a5-48f5-9f17-09a31e7213e2"
      },
      "source": [
        "dist = cosine_distances(code, bank)\n",
        "dist"
      ],
      "execution_count": 16,
      "outputs": [
        {
          "output_type": "execute_result",
          "data": {
            "text/plain": [
              "array([[0.        , 0.59035598, 0.67697086, 0.8502479 , 0.77549337,\n",
              "        0.791122  , 0.67688484, 0.70103726, 0.76614641, 0.82337603,\n",
              "        0.79868094, 0.75381702, 0.69591818, 0.79587585, 0.6555405 ,\n",
              "        0.88129087, 0.84508067, 0.75485483, 0.69481069, 0.6680236 ,\n",
              "        0.63216903, 0.82109339, 0.82735773, 0.75256417, 0.75338999,\n",
              "        0.72222222, 0.78240293, 0.77917258, 0.58528898, 0.72860835,\n",
              "        0.72499045, 0.75769416, 0.6095008 , 0.77411867, 0.79911847,\n",
              "        0.76381125, 0.75266716, 0.71909968, 0.76793022, 0.74599975,\n",
              "        0.74379495, 0.71464945, 0.78498168, 0.89174682, 0.74523767,\n",
              "        0.75168352, 0.75945129, 0.70066696, 0.80372678, 0.91091292,\n",
              "        0.70984066, 0.90871291, 0.68484238, 0.66735043, 0.72531936,\n",
              "        0.77569114, 0.78464724, 0.79542073, 0.66321234, 0.75485483,\n",
              "        0.50257512, 0.78959365, 0.91116637, 0.71301799, 0.72808762,\n",
              "        0.77848059, 0.7369316 , 0.80949981, 0.7658419 , 1.        ,\n",
              "        0.78080135, 0.69734004, 0.84409761, 0.74135324, 0.71068122,\n",
              "        0.81835059, 0.54187715, 0.77830091, 0.67525007, 0.6897517 ,\n",
              "        0.71213995, 0.7233007 , 0.69475445, 0.89255831, 0.71424971,\n",
              "        0.67122031, 0.81360394, 0.78769806, 0.78240293, 0.8213683 ,\n",
              "        0.82223572, 0.74418006, 0.85698061, 0.84971665, 0.71296893,\n",
              "        0.7373244 , 0.73729653, 0.7608277 , 0.72689629, 0.68225555,\n",
              "        0.51492875, 0.87747549, 0.80988272, 0.76750472, 0.76549118,\n",
              "        0.67564566, 0.76185516, 0.80185152, 0.42522459, 0.69552862,\n",
              "        0.82592234, 0.78080135, 0.86474955, 0.66233112, 0.63421824,\n",
              "        0.723353  , 0.78180349, 0.77115357, 0.7695588 , 0.47677789,\n",
              "        0.74094818, 0.73586473, 0.74737663, 0.79587585, 0.70077813,\n",
              "        0.74135324, 0.89300988, 0.87725244, 0.90098525, 0.74555916,\n",
              "        0.75168352, 0.8425148 , 0.8236636 , 0.78435815, 0.80988272,\n",
              "        0.6798028 , 0.79176832, 1.        , 0.67780833, 0.82496499,\n",
              "        0.65389067, 0.80542759]])"
            ]
          },
          "metadata": {
            "tags": []
          },
          "execution_count": 16
        }
      ]
    },
    {
      "cell_type": "code",
      "metadata": {
        "colab": {
          "base_uri": "https://localhost:8080/"
        },
        "id": "0BG_HYZYVvI9",
        "outputId": "26f2dbcd-94a8-4800-92ac-d17f7bbd7bc7"
      },
      "source": [
        "rect_idx = dist.argsort()\n",
        "rect_idx"
      ],
      "execution_count": 37,
      "outputs": [
        {
          "output_type": "execute_result",
          "data": {
            "text/plain": [
              "array([[  0, 108, 119,  60, 100,  76,  28,   1,  32,  20, 114, 140,  14,\n",
              "        113,  58,  53,  19,  85,  78, 105,   6,   2, 138, 135,  99,  52,\n",
              "         79,  82,  18, 109,  12,  71,  47, 124,   7,  50,  74,  80,  94,\n",
              "         63,  84,  41,  37,  25,  81, 115,  30,  54,  98,  64,  29, 121,\n",
              "         66,  96,  95, 120,  73, 125,  40,  91,  44, 129,  39, 122,  45,\n",
              "        130,  23,  36,  24,  11,  59,  17,  31,  46,  97, 106,  35, 104,\n",
              "         68,   8, 103,  38, 118, 117,  33,   4,  55,  77,  65,  27, 111,\n",
              "         70, 116,  88,  26, 133,  56,  42,  87,  61,   5, 136,  57,  13,\n",
              "        123,  10,  34, 107,  48, 141,  67, 134, 102,  86,  75,  21,  89,\n",
              "         90,   9, 132, 139, 110,  22, 131,  72,  16,  93,   3,  92, 112,\n",
              "        127, 101,  15,  43,  83, 126, 128,  51,  49,  62,  69, 137]])"
            ]
          },
          "metadata": {
            "tags": []
          },
          "execution_count": 37
        }
      ]
    },
    {
      "cell_type": "markdown",
      "metadata": {
        "id": "BtRnbOUlV1XO"
      },
      "source": [
        "## Step 3: Recommend"
      ]
    },
    {
      "cell_type": "code",
      "metadata": {
        "colab": {
          "base_uri": "https://localhost:8080/",
          "height": 756
        },
        "id": "u4Jv21NAV6r-",
        "outputId": "f05faed3-a992-4e4d-a3dc-891cc9bb6177"
      },
      "source": [
        "destination.loc[rect_idx]"
      ],
      "execution_count": 18,
      "outputs": [
        {
          "output_type": "execute_result",
          "data": {
            "text/html": [
              "<div>\n",
              "<style scoped>\n",
              "    .dataframe tbody tr th:only-of-type {\n",
              "        vertical-align: middle;\n",
              "    }\n",
              "\n",
              "    .dataframe tbody tr th {\n",
              "        vertical-align: top;\n",
              "    }\n",
              "\n",
              "    .dataframe thead th {\n",
              "        text-align: right;\n",
              "    }\n",
              "</style>\n",
              "<table border=\"1\" class=\"dataframe\">\n",
              "  <thead>\n",
              "    <tr style=\"text-align: right;\">\n",
              "      <th></th>\n",
              "      <th>index</th>\n",
              "      <th>nama</th>\n",
              "      <th>vote_average</th>\n",
              "      <th>vote_count</th>\n",
              "      <th>type</th>\n",
              "      <th>htm_weekday</th>\n",
              "      <th>htm_weekend</th>\n",
              "      <th>latitude</th>\n",
              "      <th>longitude</th>\n",
              "      <th>description</th>\n",
              "    </tr>\n",
              "  </thead>\n",
              "  <tbody>\n",
              "    <tr>\n",
              "      <th>108</th>\n",
              "      <td>108</td>\n",
              "      <td>Candi Banyunibo</td>\n",
              "      <td>4.5</td>\n",
              "      <td>1151</td>\n",
              "      <td>Budaya dan Sejarah</td>\n",
              "      <td>5000.0</td>\n",
              "      <td>5000.0</td>\n",
              "      <td>-7.777901</td>\n",
              "      <td>110.494073</td>\n",
              "      <td>Candi Banyunibo adalah candi Buddha yang berad...</td>\n",
              "    </tr>\n",
              "    <tr>\n",
              "      <th>119</th>\n",
              "      <td>119</td>\n",
              "      <td>Candi Sari</td>\n",
              "      <td>4.5</td>\n",
              "      <td>938</td>\n",
              "      <td>Budaya dan Sejarah</td>\n",
              "      <td>2000.0</td>\n",
              "      <td>2000.0</td>\n",
              "      <td>-7.761558</td>\n",
              "      <td>110.474275</td>\n",
              "      <td>Candi Sari juga disebut Candi Bendah adalah ca...</td>\n",
              "    </tr>\n",
              "    <tr>\n",
              "      <th>60</th>\n",
              "      <td>60</td>\n",
              "      <td>Candi Sewu</td>\n",
              "      <td>4.6</td>\n",
              "      <td>2968</td>\n",
              "      <td>Budaya dan Sejarah</td>\n",
              "      <td>10000.0</td>\n",
              "      <td>10000.0</td>\n",
              "      <td>-7.743922</td>\n",
              "      <td>110.492909</td>\n",
              "      <td>Candi Sewu adalah candi Buddha yang dibangun p...</td>\n",
              "    </tr>\n",
              "    <tr>\n",
              "      <th>100</th>\n",
              "      <td>100</td>\n",
              "      <td>Candi Kalasan</td>\n",
              "      <td>4.5</td>\n",
              "      <td>1291</td>\n",
              "      <td>Budaya dan Sejarah</td>\n",
              "      <td>5000.0</td>\n",
              "      <td>5000.0</td>\n",
              "      <td>-7.767284</td>\n",
              "      <td>110.472350</td>\n",
              "      <td>Candi Kalasan adalah candi yang dipersembahkan...</td>\n",
              "    </tr>\n",
              "    <tr>\n",
              "      <th>76</th>\n",
              "      <td>76</td>\n",
              "      <td>Candi Sojiwan</td>\n",
              "      <td>4.5</td>\n",
              "      <td>2159</td>\n",
              "      <td>Budaya dan Sejarah</td>\n",
              "      <td>5000.0</td>\n",
              "      <td>5000.0</td>\n",
              "      <td>-7.760395</td>\n",
              "      <td>110.496201</td>\n",
              "      <td>Candi Sojiwan memiliki keunikan. Keunikan ini ...</td>\n",
              "    </tr>\n",
              "    <tr>\n",
              "      <th>28</th>\n",
              "      <td>28</td>\n",
              "      <td>Candi Plaosan</td>\n",
              "      <td>4.6</td>\n",
              "      <td>7855</td>\n",
              "      <td>Budaya dan Sejarah</td>\n",
              "      <td>3000.0</td>\n",
              "      <td>3000.0</td>\n",
              "      <td>-7.740781</td>\n",
              "      <td>110.504677</td>\n",
              "      <td>Candi Plaosan terletak di Desa Bugisan, Kecama...</td>\n",
              "    </tr>\n",
              "    <tr>\n",
              "      <th>1</th>\n",
              "      <td>1</td>\n",
              "      <td>Candi Prambanan</td>\n",
              "      <td>4.7</td>\n",
              "      <td>71751</td>\n",
              "      <td>Budaya dan Sejarah</td>\n",
              "      <td>50000.0</td>\n",
              "      <td>50000.0</td>\n",
              "      <td>-7.751835</td>\n",
              "      <td>110.491532</td>\n",
              "      <td>Candi Prambanan adalah kompleks candi Hindu te...</td>\n",
              "    </tr>\n",
              "    <tr>\n",
              "      <th>32</th>\n",
              "      <td>32</td>\n",
              "      <td>Candi Sambisari</td>\n",
              "      <td>4.6</td>\n",
              "      <td>6238</td>\n",
              "      <td>Budaya dan Sejarah</td>\n",
              "      <td>5000.0</td>\n",
              "      <td>5000.0</td>\n",
              "      <td>-7.762491</td>\n",
              "      <td>110.447037</td>\n",
              "      <td>Candi Sambisari adalah Candi Hindu yang berada...</td>\n",
              "    </tr>\n",
              "    <tr>\n",
              "      <th>20</th>\n",
              "      <td>20</td>\n",
              "      <td>Depok Beach</td>\n",
              "      <td>4.3</td>\n",
              "      <td>10820</td>\n",
              "      <td>Pantai</td>\n",
              "      <td>10000.0</td>\n",
              "      <td>10000.0</td>\n",
              "      <td>-8.013709</td>\n",
              "      <td>110.291478</td>\n",
              "      <td>Pantai Depok yang letaknya hanya 1,5 km dari P...</td>\n",
              "    </tr>\n",
              "  </tbody>\n",
              "</table>\n",
              "</div>"
            ],
            "text/plain": [
              "     index  ...                                        description\n",
              "108    108  ...  Candi Banyunibo adalah candi Buddha yang berad...\n",
              "119    119  ...  Candi Sari juga disebut Candi Bendah adalah ca...\n",
              "60      60  ...  Candi Sewu adalah candi Buddha yang dibangun p...\n",
              "100    100  ...  Candi Kalasan adalah candi yang dipersembahkan...\n",
              "76      76  ...  Candi Sojiwan memiliki keunikan. Keunikan ini ...\n",
              "28      28  ...  Candi Plaosan terletak di Desa Bugisan, Kecama...\n",
              "1        1  ...  Candi Prambanan adalah kompleks candi Hindu te...\n",
              "32      32  ...  Candi Sambisari adalah Candi Hindu yang berada...\n",
              "20      20  ...  Pantai Depok yang letaknya hanya 1,5 km dari P...\n",
              "\n",
              "[9 rows x 10 columns]"
            ]
          },
          "metadata": {
            "tags": []
          },
          "execution_count": 18
        }
      ]
    },
    {
      "cell_type": "markdown",
      "metadata": {
        "id": "6vJJ9U3xV9ps"
      },
      "source": [
        "## ML Engineering: Content Base Filtering"
      ]
    },
    {
      "cell_type": "code",
      "metadata": {
        "id": "VGtSXpJHXQRJ"
      },
      "source": [
        "class ContentRecSys:\n",
        "    def __init__(self, data, content_col, index_col=None):\n",
        "        self.df = pd.read_csv(data, index_col=index_col)\n",
        "        self.content_col = content_col\n",
        "        self.encoder = None\n",
        "        self.bank = None\n",
        "\n",
        "    def fit(self):\n",
        "        self.encoder = CountVectorizer(tokenizer=word_tokenize)\n",
        "        self.bank = self.encoder.fit_transform(self.df[self.content_col])\n",
        "\n",
        "    def recommend(self, idx, topk=10):\n",
        "        content = self.df.loc[idx, self.content_col]\n",
        "        code = self.encoder.transform([content])\n",
        "        dist = cosine_distances(code, self.bank)\n",
        "        rect_idx = dist.argsort()[0, 1:(topk+1)]\n",
        "        return self.df.loc[rect_idx]"
      ],
      "execution_count": 33,
      "outputs": []
    },
    {
      "cell_type": "markdown",
      "metadata": {
        "id": "u-IBMECIZbQv"
      },
      "source": [
        "## Testing Content Base Filtering"
      ]
    },
    {
      "cell_type": "code",
      "metadata": {
        "id": "wS4P2HZyZggX"
      },
      "source": [
        "conrecsys = ContentRecSys(data=\"dataset.csv\", content_col=\"description\", index_col='index')\n",
        "conrecsys.fit()"
      ],
      "execution_count": 34,
      "outputs": []
    },
    {
      "cell_type": "code",
      "metadata": {
        "colab": {
          "base_uri": "https://localhost:8080/",
          "height": 390
        },
        "id": "VIBTMhGYZ2P7",
        "outputId": "eeaf6c9f-7fae-4dfb-b4b9-1b0baabc2d95"
      },
      "source": [
        "conrecsys.recommend(20) # Depok Beach"
      ],
      "execution_count": 35,
      "outputs": [
        {
          "output_type": "execute_result",
          "data": {
            "text/html": [
              "<div>\n",
              "<style scoped>\n",
              "    .dataframe tbody tr th:only-of-type {\n",
              "        vertical-align: middle;\n",
              "    }\n",
              "\n",
              "    .dataframe tbody tr th {\n",
              "        vertical-align: top;\n",
              "    }\n",
              "\n",
              "    .dataframe thead th {\n",
              "        text-align: right;\n",
              "    }\n",
              "</style>\n",
              "<table border=\"1\" class=\"dataframe\">\n",
              "  <thead>\n",
              "    <tr style=\"text-align: right;\">\n",
              "      <th></th>\n",
              "      <th>nama</th>\n",
              "      <th>vote_average</th>\n",
              "      <th>vote_count</th>\n",
              "      <th>type</th>\n",
              "      <th>htm_weekday</th>\n",
              "      <th>htm_weekend</th>\n",
              "      <th>latitude</th>\n",
              "      <th>longitude</th>\n",
              "      <th>description</th>\n",
              "    </tr>\n",
              "    <tr>\n",
              "      <th>index</th>\n",
              "      <th></th>\n",
              "      <th></th>\n",
              "      <th></th>\n",
              "      <th></th>\n",
              "      <th></th>\n",
              "      <th></th>\n",
              "      <th></th>\n",
              "      <th></th>\n",
              "      <th></th>\n",
              "    </tr>\n",
              "  </thead>\n",
              "  <tbody>\n",
              "    <tr>\n",
              "      <th>58</th>\n",
              "      <td>Pantai Ngandong</td>\n",
              "      <td>4.5</td>\n",
              "      <td>3151</td>\n",
              "      <td>Pantai</td>\n",
              "      <td>10000.0</td>\n",
              "      <td>10000.0</td>\n",
              "      <td>-8.146423</td>\n",
              "      <td>110.606141</td>\n",
              "      <td>Pantai ini memiliki garis pantai yang panjang ...</td>\n",
              "    </tr>\n",
              "    <tr>\n",
              "      <th>96</th>\n",
              "      <td>Pantai Ngrumput</td>\n",
              "      <td>4.6</td>\n",
              "      <td>1437</td>\n",
              "      <td>Pantai</td>\n",
              "      <td>10000.0</td>\n",
              "      <td>10000.0</td>\n",
              "      <td>-8.140383</td>\n",
              "      <td>110.583124</td>\n",
              "      <td>Pantai Ngrumput memang kalah pamor dengan Para...</td>\n",
              "    </tr>\n",
              "    <tr>\n",
              "      <th>52</th>\n",
              "      <td>Pantai Pok Tunggal</td>\n",
              "      <td>4.5</td>\n",
              "      <td>3467</td>\n",
              "      <td>Pantai</td>\n",
              "      <td>10000.0</td>\n",
              "      <td>10000.0</td>\n",
              "      <td>-8.155447</td>\n",
              "      <td>110.621758</td>\n",
              "      <td>Pantai Pok Tunggal adalah salah satu pantai po...</td>\n",
              "    </tr>\n",
              "    <tr>\n",
              "      <th>82</th>\n",
              "      <td>Pantai Ngrenehan</td>\n",
              "      <td>4.4</td>\n",
              "      <td>1876</td>\n",
              "      <td>Pantai</td>\n",
              "      <td>5000.0</td>\n",
              "      <td>5000.0</td>\n",
              "      <td>-8.121148</td>\n",
              "      <td>110.514234</td>\n",
              "      <td>Pantai Ngrenehan merupakan pantai nelayan. Ter...</td>\n",
              "    </tr>\n",
              "    <tr>\n",
              "      <th>64</th>\n",
              "      <td>Pantai Timang</td>\n",
              "      <td>4.5</td>\n",
              "      <td>2656</td>\n",
              "      <td>Pantai</td>\n",
              "      <td>5000.0</td>\n",
              "      <td>5000.0</td>\n",
              "      <td>-8.175927</td>\n",
              "      <td>110.662420</td>\n",
              "      <td>Begitu memasuki wilayah pantai, pengunjung aka...</td>\n",
              "    </tr>\n",
              "    <tr>\n",
              "      <th>109</th>\n",
              "      <td>Pantai Nglolang</td>\n",
              "      <td>4.3</td>\n",
              "      <td>1123</td>\n",
              "      <td>Pantai</td>\n",
              "      <td>10000.0</td>\n",
              "      <td>10000.0</td>\n",
              "      <td>-8.136005</td>\n",
              "      <td>110.562855</td>\n",
              "      <td>Pantai ini sangat indah dengan pasir putih dan...</td>\n",
              "    </tr>\n",
              "    <tr>\n",
              "      <th>135</th>\n",
              "      <td>Bukit Pengilon</td>\n",
              "      <td>4.6</td>\n",
              "      <td>439</td>\n",
              "      <td>Alam</td>\n",
              "      <td>5000.0</td>\n",
              "      <td>5000.0</td>\n",
              "      <td>-8.185459</td>\n",
              "      <td>110.691722</td>\n",
              "      <td>Nama bukit Pengilon berasal dari bahasa Jawa y...</td>\n",
              "    </tr>\n",
              "    <tr>\n",
              "      <th>97</th>\n",
              "      <td>Pantai Ngedan</td>\n",
              "      <td>4.4</td>\n",
              "      <td>1382</td>\n",
              "      <td>Pantai</td>\n",
              "      <td>5000.0</td>\n",
              "      <td>5000.0</td>\n",
              "      <td>-8.116342</td>\n",
              "      <td>110.496336</td>\n",
              "      <td>Pantai Ngeden atau Ngedan yang terletak di Des...</td>\n",
              "    </tr>\n",
              "    <tr>\n",
              "      <th>105</th>\n",
              "      <td>Bukit Teletubbies</td>\n",
              "      <td>4.1</td>\n",
              "      <td>1173</td>\n",
              "      <td>Alam</td>\n",
              "      <td>2000.0</td>\n",
              "      <td>2000.0</td>\n",
              "      <td>-7.818127</td>\n",
              "      <td>110.511764</td>\n",
              "      <td>Wisata satu ini merupakan wisata yang lokasiny...</td>\n",
              "    </tr>\n",
              "    <tr>\n",
              "      <th>53</th>\n",
              "      <td>Pantai Ngobaran</td>\n",
              "      <td>4.5</td>\n",
              "      <td>3288</td>\n",
              "      <td>Pantai, Budaya dan Sejarah</td>\n",
              "      <td>5000.0</td>\n",
              "      <td>5000.0</td>\n",
              "      <td>-8.119133</td>\n",
              "      <td>110.505041</td>\n",
              "      <td>Keunikan yang menjadi ciri khas Pantai Ngobara...</td>\n",
              "    </tr>\n",
              "  </tbody>\n",
              "</table>\n",
              "</div>"
            ],
            "text/plain": [
              "                     nama  ...                                        description\n",
              "index                      ...                                                   \n",
              "58        Pantai Ngandong  ...  Pantai ini memiliki garis pantai yang panjang ...\n",
              "96        Pantai Ngrumput  ...  Pantai Ngrumput memang kalah pamor dengan Para...\n",
              "52     Pantai Pok Tunggal  ...  Pantai Pok Tunggal adalah salah satu pantai po...\n",
              "82       Pantai Ngrenehan  ...  Pantai Ngrenehan merupakan pantai nelayan. Ter...\n",
              "64          Pantai Timang  ...  Begitu memasuki wilayah pantai, pengunjung aka...\n",
              "109       Pantai Nglolang  ...  Pantai ini sangat indah dengan pasir putih dan...\n",
              "135        Bukit Pengilon  ...  Nama bukit Pengilon berasal dari bahasa Jawa y...\n",
              "97          Pantai Ngedan  ...  Pantai Ngeden atau Ngedan yang terletak di Des...\n",
              "105     Bukit Teletubbies  ...  Wisata satu ini merupakan wisata yang lokasiny...\n",
              "53        Pantai Ngobaran  ...  Keunikan yang menjadi ciri khas Pantai Ngobara...\n",
              "\n",
              "[10 rows x 9 columns]"
            ]
          },
          "metadata": {
            "tags": []
          },
          "execution_count": 35
        }
      ]
    },
    {
      "cell_type": "code",
      "metadata": {
        "colab": {
          "base_uri": "https://localhost:8080/",
          "height": 458
        },
        "id": "gaDw5QqpZ898",
        "outputId": "8d5d99b5-bad7-4c06-8e28-0630835cd7a9"
      },
      "source": [
        "conrecsys.recommend(4) # Keraton Jogja"
      ],
      "execution_count": 36,
      "outputs": [
        {
          "output_type": "execute_result",
          "data": {
            "text/html": [
              "<div>\n",
              "<style scoped>\n",
              "    .dataframe tbody tr th:only-of-type {\n",
              "        vertical-align: middle;\n",
              "    }\n",
              "\n",
              "    .dataframe tbody tr th {\n",
              "        vertical-align: top;\n",
              "    }\n",
              "\n",
              "    .dataframe thead th {\n",
              "        text-align: right;\n",
              "    }\n",
              "</style>\n",
              "<table border=\"1\" class=\"dataframe\">\n",
              "  <thead>\n",
              "    <tr style=\"text-align: right;\">\n",
              "      <th></th>\n",
              "      <th>nama</th>\n",
              "      <th>vote_average</th>\n",
              "      <th>vote_count</th>\n",
              "      <th>type</th>\n",
              "      <th>htm_weekday</th>\n",
              "      <th>htm_weekend</th>\n",
              "      <th>latitude</th>\n",
              "      <th>longitude</th>\n",
              "      <th>description</th>\n",
              "    </tr>\n",
              "    <tr>\n",
              "      <th>index</th>\n",
              "      <th></th>\n",
              "      <th></th>\n",
              "      <th></th>\n",
              "      <th></th>\n",
              "      <th></th>\n",
              "      <th></th>\n",
              "      <th></th>\n",
              "      <th></th>\n",
              "      <th></th>\n",
              "    </tr>\n",
              "  </thead>\n",
              "  <tbody>\n",
              "    <tr>\n",
              "      <th>86</th>\n",
              "      <td>Puncak Kebun Buah Mangunan</td>\n",
              "      <td>4.6</td>\n",
              "      <td>1773</td>\n",
              "      <td>Agrowisata</td>\n",
              "      <td>8000.0</td>\n",
              "      <td>8000.0</td>\n",
              "      <td>-7.941372</td>\n",
              "      <td>110.424734</td>\n",
              "      <td>Objek wisata ini menawarkan keindahan berupa p...</td>\n",
              "    </tr>\n",
              "    <tr>\n",
              "      <th>15</th>\n",
              "      <td>Pantai Goa Cemara</td>\n",
              "      <td>4.3</td>\n",
              "      <td>12755</td>\n",
              "      <td>Pantai</td>\n",
              "      <td>4000.0</td>\n",
              "      <td>4000.0</td>\n",
              "      <td>-7.999423</td>\n",
              "      <td>110.248963</td>\n",
              "      <td>Adalah Kawasan Wisata Terpadu, satu pintu deng...</td>\n",
              "    </tr>\n",
              "    <tr>\n",
              "      <th>136</th>\n",
              "      <td>Taman Tempuran Cikal</td>\n",
              "      <td>4.4</td>\n",
              "      <td>294</td>\n",
              "      <td>Alam, Wisata Air</td>\n",
              "      <td>10000.0</td>\n",
              "      <td>NaN</td>\n",
              "      <td>-7.840562</td>\n",
              "      <td>110.449455</td>\n",
              "      <td>Taman Tempuran Cikal terletak di kecamatan Piy...</td>\n",
              "    </tr>\n",
              "    <tr>\n",
              "      <th>84</th>\n",
              "      <td>Affandi Museum</td>\n",
              "      <td>4.6</td>\n",
              "      <td>1848</td>\n",
              "      <td>Budaya dan Sejarah, Museum</td>\n",
              "      <td>30000.0</td>\n",
              "      <td>30000.0</td>\n",
              "      <td>-7.782713</td>\n",
              "      <td>110.396397</td>\n",
              "      <td>Museum Affandi merupakan salah satu museum sen...</td>\n",
              "    </tr>\n",
              "    <tr>\n",
              "      <th>88</th>\n",
              "      <td>Museum Sonobudoyo Unit I</td>\n",
              "      <td>4.6</td>\n",
              "      <td>1711</td>\n",
              "      <td>Budaya dan Sejarah, Museum</td>\n",
              "      <td>3000.0</td>\n",
              "      <td>3000.0</td>\n",
              "      <td>-7.802450</td>\n",
              "      <td>110.363955</td>\n",
              "      <td>useum Sonobudoyo unit pertama yang ada di deka...</td>\n",
              "    </tr>\n",
              "    <tr>\n",
              "      <th>85</th>\n",
              "      <td>Museum Monumen Pangeran Diponegoro</td>\n",
              "      <td>4.4</td>\n",
              "      <td>1778</td>\n",
              "      <td>Budaya dan Sejarah, Museum</td>\n",
              "      <td>NaN</td>\n",
              "      <td>NaN</td>\n",
              "      <td>-7.786589</td>\n",
              "      <td>110.351447</td>\n",
              "      <td>Museum Monumen Pangeran Diponegoro adalah muse...</td>\n",
              "    </tr>\n",
              "    <tr>\n",
              "      <th>65</th>\n",
              "      <td>Museum HM Soeharto</td>\n",
              "      <td>4.4</td>\n",
              "      <td>2628</td>\n",
              "      <td>Museum, Budaya dan Sejarah</td>\n",
              "      <td>NaN</td>\n",
              "      <td>NaN</td>\n",
              "      <td>-7.791318</td>\n",
              "      <td>110.280528</td>\n",
              "      <td>Museum Soeharto adalah adalah bangunan berBuda...</td>\n",
              "    </tr>\n",
              "    <tr>\n",
              "      <th>90</th>\n",
              "      <td>Kawasan Pantai Baron</td>\n",
              "      <td>4.4</td>\n",
              "      <td>1698</td>\n",
              "      <td>Alam</td>\n",
              "      <td>10000.0</td>\n",
              "      <td>10000.0</td>\n",
              "      <td>-8.128825</td>\n",
              "      <td>110.548776</td>\n",
              "      <td>Objek wisata Pantai Baron merupakan pantai yan...</td>\n",
              "    </tr>\n",
              "    <tr>\n",
              "      <th>67</th>\n",
              "      <td>Grand Puri Waterpark</td>\n",
              "      <td>4.2</td>\n",
              "      <td>2440</td>\n",
              "      <td>Wisata Air</td>\n",
              "      <td>35000.0</td>\n",
              "      <td>35000.0</td>\n",
              "      <td>-7.877766</td>\n",
              "      <td>110.352078</td>\n",
              "      <td>Grand Puri Waterpark Yogya berlokasi di daerah...</td>\n",
              "    </tr>\n",
              "    <tr>\n",
              "      <th>9</th>\n",
              "      <td>The Lost World Castle</td>\n",
              "      <td>4.3</td>\n",
              "      <td>16110</td>\n",
              "      <td>Buatan, Alam</td>\n",
              "      <td>30000.0</td>\n",
              "      <td>30000.0</td>\n",
              "      <td>-7.604165</td>\n",
              "      <td>110.451004</td>\n",
              "      <td>Di dalam The Lost World Casle, pengunjung disu...</td>\n",
              "    </tr>\n",
              "  </tbody>\n",
              "</table>\n",
              "</div>"
            ],
            "text/plain": [
              "                                     nama  ...                                        description\n",
              "index                                      ...                                                   \n",
              "86             Puncak Kebun Buah Mangunan  ...  Objek wisata ini menawarkan keindahan berupa p...\n",
              "15                      Pantai Goa Cemara  ...  Adalah Kawasan Wisata Terpadu, satu pintu deng...\n",
              "136                  Taman Tempuran Cikal  ...  Taman Tempuran Cikal terletak di kecamatan Piy...\n",
              "84                         Affandi Museum  ...  Museum Affandi merupakan salah satu museum sen...\n",
              "88               Museum Sonobudoyo Unit I  ...  useum Sonobudoyo unit pertama yang ada di deka...\n",
              "85     Museum Monumen Pangeran Diponegoro  ...  Museum Monumen Pangeran Diponegoro adalah muse...\n",
              "65                     Museum HM Soeharto  ...  Museum Soeharto adalah adalah bangunan berBuda...\n",
              "90                   Kawasan Pantai Baron  ...  Objek wisata Pantai Baron merupakan pantai yan...\n",
              "67                   Grand Puri Waterpark  ...  Grand Puri Waterpark Yogya berlokasi di daerah...\n",
              "9                   The Lost World Castle  ...  Di dalam The Lost World Casle, pengunjung disu...\n",
              "\n",
              "[10 rows x 9 columns]"
            ]
          },
          "metadata": {
            "tags": []
          },
          "execution_count": 36
        }
      ]
    },
    {
      "cell_type": "markdown",
      "metadata": {
        "id": "wCM3y8dQegGT"
      },
      "source": [
        "# Collaborative Filtering"
      ]
    },
    {
      "cell_type": "code",
      "metadata": {
        "colab": {
          "base_uri": "https://localhost:8080/"
        },
        "id": "IndJUwA8GFeP",
        "outputId": "61a452ac-477b-43eb-a6fb-f90b976199d3"
      },
      "source": [
        "!pip install surprise"
      ],
      "execution_count": 9,
      "outputs": [
        {
          "output_type": "stream",
          "text": [
            "Collecting surprise\n",
            "  Downloading https://files.pythonhosted.org/packages/61/de/e5cba8682201fcf9c3719a6fdda95693468ed061945493dea2dd37c5618b/surprise-0.1-py2.py3-none-any.whl\n",
            "Collecting scikit-surprise\n",
            "\u001b[?25l  Downloading https://files.pythonhosted.org/packages/97/37/5d334adaf5ddd65da99fc65f6507e0e4599d092ba048f4302fe8775619e8/scikit-surprise-1.1.1.tar.gz (11.8MB)\n",
            "\u001b[K     |████████████████████████████████| 11.8MB 217kB/s \n",
            "\u001b[?25hRequirement already satisfied: joblib>=0.11 in /usr/local/lib/python3.7/dist-packages (from scikit-surprise->surprise) (1.0.1)\n",
            "Requirement already satisfied: numpy>=1.11.2 in /usr/local/lib/python3.7/dist-packages (from scikit-surprise->surprise) (1.19.5)\n",
            "Requirement already satisfied: scipy>=1.0.0 in /usr/local/lib/python3.7/dist-packages (from scikit-surprise->surprise) (1.4.1)\n",
            "Requirement already satisfied: six>=1.10.0 in /usr/local/lib/python3.7/dist-packages (from scikit-surprise->surprise) (1.15.0)\n",
            "Building wheels for collected packages: scikit-surprise\n",
            "  Building wheel for scikit-surprise (setup.py) ... \u001b[?25l\u001b[?25hdone\n",
            "  Created wheel for scikit-surprise: filename=scikit_surprise-1.1.1-cp37-cp37m-linux_x86_64.whl size=1617619 sha256=0b240a9984d5ae53df2c1678af8b8f1fb65c9370fb8bb00c939a83d1870c2ba3\n",
            "  Stored in directory: /root/.cache/pip/wheels/78/9c/3d/41b419c9d2aff5b6e2b4c0fc8d25c538202834058f9ed110d0\n",
            "Successfully built scikit-surprise\n",
            "Installing collected packages: scikit-surprise, surprise\n",
            "Successfully installed scikit-surprise-1.1.1 surprise-0.1\n"
          ],
          "name": "stdout"
        }
      ]
    },
    {
      "cell_type": "code",
      "metadata": {
        "id": "pFXGCUcHFdli"
      },
      "source": [
        "from surprise import Reader, Dataset, SVD, NMF, SVDpp, SlopeOne\n",
        "from surprise.model_selection import cross_validate\n"
      ],
      "execution_count": 28,
      "outputs": []
    },
    {
      "cell_type": "code",
      "metadata": {
        "colab": {
          "base_uri": "https://localhost:8080/",
          "height": 204
        },
        "id": "8DXKMbOLCAgW",
        "outputId": "59d4fc8d-94b6-4c52-c8a0-b3b09db0aff7"
      },
      "source": [
        "dest_rating = pd.merge(rating, destination, on='index')\n",
        "cols = ['index', 'vote_average', 'vote_count', 'type', 'htm_weekday', 'htm_weekend', 'latitude', 'longitude', 'description']\n",
        "dest_rating.drop(cols, axis=1, inplace=True)\n",
        "# dest_rating.sort_values(\"user_id\", inplace=True)\n",
        "dest_rating = dest_rating[['user_id', 'nama', 'ratings']]\n",
        "dest_rating.tail()"
      ],
      "execution_count": 79,
      "outputs": [
        {
          "output_type": "execute_result",
          "data": {
            "text/html": [
              "<div>\n",
              "<style scoped>\n",
              "    .dataframe tbody tr th:only-of-type {\n",
              "        vertical-align: middle;\n",
              "    }\n",
              "\n",
              "    .dataframe tbody tr th {\n",
              "        vertical-align: top;\n",
              "    }\n",
              "\n",
              "    .dataframe thead th {\n",
              "        text-align: right;\n",
              "    }\n",
              "</style>\n",
              "<table border=\"1\" class=\"dataframe\">\n",
              "  <thead>\n",
              "    <tr style=\"text-align: right;\">\n",
              "      <th></th>\n",
              "      <th>user_id</th>\n",
              "      <th>nama</th>\n",
              "      <th>ratings</th>\n",
              "    </tr>\n",
              "  </thead>\n",
              "  <tbody>\n",
              "    <tr>\n",
              "      <th>15024</th>\n",
              "      <td>952</td>\n",
              "      <td>Taman Bunga Amarilis</td>\n",
              "      <td>5</td>\n",
              "    </tr>\n",
              "    <tr>\n",
              "      <th>15025</th>\n",
              "      <td>973</td>\n",
              "      <td>Taman Bunga Amarilis</td>\n",
              "      <td>4</td>\n",
              "    </tr>\n",
              "    <tr>\n",
              "      <th>15026</th>\n",
              "      <td>974</td>\n",
              "      <td>Taman Bunga Amarilis</td>\n",
              "      <td>3</td>\n",
              "    </tr>\n",
              "    <tr>\n",
              "      <th>15027</th>\n",
              "      <td>989</td>\n",
              "      <td>Taman Bunga Amarilis</td>\n",
              "      <td>5</td>\n",
              "    </tr>\n",
              "    <tr>\n",
              "      <th>15028</th>\n",
              "      <td>990</td>\n",
              "      <td>Taman Bunga Amarilis</td>\n",
              "      <td>1</td>\n",
              "    </tr>\n",
              "  </tbody>\n",
              "</table>\n",
              "</div>"
            ],
            "text/plain": [
              "       user_id                  nama  ratings\n",
              "15024      952  Taman Bunga Amarilis        5\n",
              "15025      973  Taman Bunga Amarilis        4\n",
              "15026      974  Taman Bunga Amarilis        3\n",
              "15027      989  Taman Bunga Amarilis        5\n",
              "15028      990  Taman Bunga Amarilis        1"
            ]
          },
          "metadata": {
            "tags": []
          },
          "execution_count": 79
        }
      ]
    },
    {
      "cell_type": "code",
      "metadata": {
        "colab": {
          "base_uri": "https://localhost:8080/"
        },
        "id": "LlYEV6rTJLsP",
        "outputId": "f646338b-f4e0-4905-83a7-1a8ca8c256f0"
      },
      "source": [
        "dest_rating['user_id'].nunique()"
      ],
      "execution_count": 38,
      "outputs": [
        {
          "output_type": "execute_result",
          "data": {
            "text/plain": [
              "1000"
            ]
          },
          "metadata": {
            "tags": []
          },
          "execution_count": 38
        }
      ]
    },
    {
      "cell_type": "code",
      "metadata": {
        "id": "cOKjBKVbF9aj"
      },
      "source": [
        "data = Dataset.load_from_df(dest_rating, Reader())\n",
        "trainset = data.build_full_trainset()"
      ],
      "execution_count": 17,
      "outputs": []
    },
    {
      "cell_type": "code",
      "metadata": {
        "colab": {
          "base_uri": "https://localhost:8080/"
        },
        "id": "jL6qxqk9Givv",
        "outputId": "517da97d-8ec4-4e75-c36e-b15e57a8467d"
      },
      "source": [
        "model = NMF()\n",
        "model.fit(trainset)"
      ],
      "execution_count": 73,
      "outputs": [
        {
          "output_type": "execute_result",
          "data": {
            "text/plain": [
              "<surprise.prediction_algorithms.matrix_factorization.NMF at 0x7fad940bd710>"
            ]
          },
          "metadata": {
            "tags": []
          },
          "execution_count": 73
        }
      ]
    },
    {
      "cell_type": "code",
      "metadata": {
        "colab": {
          "base_uri": "https://localhost:8080/"
        },
        "id": "8TDGR4AVHG3S",
        "outputId": "a596573e-bf1b-451a-b98b-690f4177fd94"
      },
      "source": [
        "model.predict(990, \"Taman Bunga Amarilis\")"
      ],
      "execution_count": 49,
      "outputs": [
        {
          "output_type": "execute_result",
          "data": {
            "text/plain": [
              "Prediction(uid=990, iid='Taman Bunga Amarilis', r_ui=None, est=2.4970922666341044, details={'was_impossible': False})"
            ]
          },
          "metadata": {
            "tags": []
          },
          "execution_count": 49
        }
      ]
    },
    {
      "cell_type": "markdown",
      "metadata": {
        "id": "qxB4B1PUKIr3"
      },
      "source": [
        "## Prediction of Tourist Destinations that have not been visited"
      ]
    },
    {
      "cell_type": "code",
      "metadata": {
        "id": "xsBGIkxHWLTR"
      },
      "source": [
        "user_id = 1"
      ],
      "execution_count": 50,
      "outputs": []
    },
    {
      "cell_type": "markdown",
      "metadata": {
        "id": "9YUKdDo2WOpR"
      },
      "source": [
        "### All Tourist Destination"
      ]
    },
    {
      "cell_type": "code",
      "metadata": {
        "colab": {
          "base_uri": "https://localhost:8080/"
        },
        "id": "P20upyq3WWIL",
        "outputId": "ebedfb7d-9846-4d1f-8183-9ea2a311918f"
      },
      "source": [
        "all_destination = dest_rating['nama'].unique()\n",
        "all_destination"
      ],
      "execution_count": 54,
      "outputs": [
        {
          "output_type": "execute_result",
          "data": {
            "text/plain": [
              "array(['De Mata Trick Eye Museum', 'Agro Tourism Bhumi Merapi',\n",
              "       'Kids Fun Galleria Mall', 'Gembira Loka Zoo', 'Situs Warungboto',\n",
              "       'Air Terjun Kedung Pedut', 'Candi Ijo', 'Balong Waterpark',\n",
              "       'Wisata Telaga Potorono', 'Pantai Parangkusumo',\n",
              "       'Grand Puri Waterpark', 'Desa Wisata Pulesari',\n",
              "       'Taman Tempuran Cikal', 'Candi Sari', 'Tugu', 'Pantai Kesirat',\n",
              "       'Camera House Borobudur', 'Pantai Parangtritis',\n",
              "       'Wisata Alam Watu Amben', 'Candi Abang', 'Kids Fun Park (Pusat)',\n",
              "       'Pantai Ngrumput', 'Pantai Timang',\n",
              "       'Pantai Cemara Sewu Bantul Yogyakarta', 'Candi Sojiwan',\n",
              "       'Tegaldowo Puspa Gading Park', 'Mangrove Jembatan Api-Api (MJAA)',\n",
              "       'Lava Tour Merapi', 'Bukit Paralayang Watugupit', 'Candi Kalasan',\n",
              "       'Pantai Ngandong', 'Tirtonirmolo Water Park Galuh',\n",
              "       'Taman Lampion (Taman Pelangi)',\n",
              "       'The World Landmarks - Merapi Park Yogyakarta', 'Candi Sambisari',\n",
              "       'Tebing Breksi', 'Candi Banyunibo', 'Museum Sonobudoyo Unit I',\n",
              "       'Jogja National Museum', 'Pesona Pengklik Pantai Samas',\n",
              "       'Seribu Batu Songgo Langit', 'Pantai Nglolang', 'Pantai Ngrenehan',\n",
              "       'Kali Talang', 'Pantai Kuwaru', 'Museum Batik Keraton Yogyakarta',\n",
              "       'Jogja Bay', 'Pintoe Langit Dahromo', 'Ramadanu flower garden',\n",
              "       'Desa Wisata Gamplong', 'Kawasan Pantai Baron', 'Pantai Ngobaran',\n",
              "       'Masjid Gedhe Kauman', 'Bukit Pengilon', 'Gunung Ireng Srumbung',\n",
              "       'Wisata Air Wanatirta Kencana', 'Museum Benteng Vredeburg',\n",
              "       'Malioboro', 'Taman Pelangi Jogja', 'Museum Perjuangan',\n",
              "       'Tebing Gunung Gajah', 'Heha Sky View', 'Kebun Teh Nglinggo',\n",
              "       'Pantai Siung', 'Taman Pintar Yogyakarta', 'Candi Prambanan',\n",
              "       'Bundaran UGM', 'Wisata Kalibiru',\n",
              "       'The Palace of Yogyakarta (Keraton Yogyakarta)',\n",
              "       'Museum HM Soeharto', 'Pantai Slili', 'Pantai Goa Cemara',\n",
              "       'Monumen Yogya Kembali', 'Desa Wisata Pentingsari',\n",
              "       'Puncak Kebun Buah Mangunan', 'XT Square', 'Embung Tambakboyo',\n",
              "       'Wana Tirta Mangrove Forests',\n",
              "       'Museum Factory Dan Kedai Chocolate Monggo', 'Blue Lagoon Jogja',\n",
              "       'Ratu Boko', 'Bukit Lintang Sewu', 'Bukit Teletubbies',\n",
              "       'Hutan Pinus Mangunan Dlingo', 'Pasar Kembang', 'Pantai Nglambor',\n",
              "       'Candi Plaosan', 'Lava Merapi and Alien Stone', 'Puncak Suroloyo',\n",
              "       'Pantai Wediombo', 'Museum Monumen Pangeran Diponegoro',\n",
              "       'Embung Nglanggeran', 'Watu Goyang', 'Selopamioro Adventure Park',\n",
              "       'Omah Petroek', 'Bukit Wisata Pulepayung', 'Pantai Sepanjang',\n",
              "       'Affandi Museum', 'Taman Wisata Kaliurang', 'Kebun Buah Mangunan',\n",
              "       'Grojogan Watu Purbo Bangunrejo', 'Goa Kiskendo', 'Goa Seplawan',\n",
              "       'Museum Wayang Kekayon', 'Pemecah Ombak Pantai Glagah',\n",
              "       'Pantai Glagah', 'Geoforest Watu Payung Turunan',\n",
              "       'Taman Sungai Mudal', 'Taman Sari', 'Candi Sewu',\n",
              "       'Pantai Pok Tunggal', 'Goa Jomblang', 'Pantai Watulawang',\n",
              "       'Central Museum of the Air Force Dirgantara Mandala',\n",
              "       'Kawasan Ekowisata Gunung Api Purba Nglanggeran',\n",
              "       'Bukit Panguk Kediwung', 'Pantai Ngetun', 'Fort Vredeburg Museum',\n",
              "       'Ngobaran Beach', 'Goa Selarong',\n",
              "       'CitraGrand Mutiara Waterpark Yogyakarta', 'Stonehenge Merapi',\n",
              "       'Pantai Drini', 'Pantai Ngedan', 'Jurang Tembelan Kanigoro',\n",
              "       'Galaxy Waterpark', 'The Lost World Castle', 'Kaliadem',\n",
              "       'Restoe Boemi Kreo', 'Sindu Kusuma Edupark (SKE)', 'Depok Beach',\n",
              "       'Museum Sandi', 'Candi Borobudur', 'Waduk Sermo',\n",
              "       'Pantai Indrayanti', 'Jogja Exotarium',\n",
              "       'Gunung Api Purba Nglanggeran', 'Bukit Klangon',\n",
              "       'Bendungan Kamijoro', 'Candi ASU Klaten', 'Sumur Gumuling',\n",
              "       'Taman Bunga Amarilis'], dtype=object)"
            ]
          },
          "metadata": {
            "tags": []
          },
          "execution_count": 54
        }
      ]
    },
    {
      "cell_type": "markdown",
      "metadata": {
        "id": "XeXWN2LZWdz3"
      },
      "source": [
        "### Has been Visited by User"
      ]
    },
    {
      "cell_type": "code",
      "metadata": {
        "colab": {
          "base_uri": "https://localhost:8080/"
        },
        "id": "SZElFrAlWlnl",
        "outputId": "5af5155f-5101-435f-ecec-5197a10634b2"
      },
      "source": [
        "visited = dest_rating[dest_rating.user_id == 1].nama\n",
        "visited.head()"
      ],
      "execution_count": 65,
      "outputs": [
        {
          "output_type": "execute_result",
          "data": {
            "text/plain": [
              "0       De Mata Trick Eye Museum\n",
              "91     Agro Tourism Bhumi Merapi\n",
              "92     Agro Tourism Bhumi Merapi\n",
              "200       Kids Fun Galleria Mall\n",
              "304             Gembira Loka Zoo\n",
              "Name: nama, dtype: object"
            ]
          },
          "metadata": {
            "tags": []
          },
          "execution_count": 65
        }
      ]
    },
    {
      "cell_type": "code",
      "metadata": {
        "colab": {
          "base_uri": "https://localhost:8080/"
        },
        "id": "dZZq5mh8aC8s",
        "outputId": "b13705e0-5cd9-4f34-de2f-231d5cee5883"
      },
      "source": [
        "visited"
      ],
      "execution_count": 62,
      "outputs": [
        {
          "output_type": "execute_result",
          "data": {
            "text/plain": [
              "0        De Mata Trick Eye Museum\n",
              "91      Agro Tourism Bhumi Merapi\n",
              "92      Agro Tourism Bhumi Merapi\n",
              "200        Kids Fun Galleria Mall\n",
              "304              Gembira Loka Zoo\n",
              "421              Situs Warungboto\n",
              "548       Air Terjun Kedung Pedut\n",
              "648                     Candi Ijo\n",
              "752              Balong Waterpark\n",
              "845        Wisata Telaga Potorono\n",
              "942           Pantai Parangkusumo\n",
              "943           Pantai Parangkusumo\n",
              "1055         Grand Puri Waterpark\n",
              "1160         Desa Wisata Pulesari\n",
              "1264         Taman Tempuran Cikal\n",
              "1371                   Candi Sari\n",
              "Name: nama, dtype: object"
            ]
          },
          "metadata": {
            "tags": []
          },
          "execution_count": 62
        }
      ]
    },
    {
      "cell_type": "markdown",
      "metadata": {
        "id": "VSxwz-A4Y5Wt"
      },
      "source": [
        "### Never been Visited by User"
      ]
    },
    {
      "cell_type": "code",
      "metadata": {
        "colab": {
          "base_uri": "https://localhost:8080/"
        },
        "id": "rZFarBgEZMIR",
        "outputId": "9274d31c-6c0a-4aba-cb30-ed044644c089"
      },
      "source": [
        "not_visited = [dest for dest in all_destination if dest not in visited.values]\n",
        "not_visited"
      ],
      "execution_count": 71,
      "outputs": [
        {
          "output_type": "execute_result",
          "data": {
            "text/plain": [
              "['Tugu',\n",
              " 'Pantai Kesirat',\n",
              " 'Camera House Borobudur',\n",
              " 'Pantai Parangtritis',\n",
              " 'Wisata Alam Watu Amben',\n",
              " 'Candi Abang',\n",
              " 'Kids Fun Park (Pusat)',\n",
              " 'Pantai Ngrumput',\n",
              " 'Pantai Timang',\n",
              " 'Pantai Cemara Sewu Bantul Yogyakarta',\n",
              " 'Candi Sojiwan',\n",
              " 'Tegaldowo Puspa Gading Park',\n",
              " 'Mangrove Jembatan Api-Api (MJAA)',\n",
              " 'Lava Tour Merapi',\n",
              " 'Bukit Paralayang Watugupit',\n",
              " 'Candi Kalasan',\n",
              " 'Pantai Ngandong',\n",
              " 'Tirtonirmolo Water Park Galuh',\n",
              " 'Taman Lampion (Taman Pelangi)',\n",
              " 'The World Landmarks - Merapi Park Yogyakarta',\n",
              " 'Candi Sambisari',\n",
              " 'Tebing Breksi',\n",
              " 'Candi Banyunibo',\n",
              " 'Museum Sonobudoyo Unit I',\n",
              " 'Jogja National Museum',\n",
              " 'Pesona Pengklik Pantai Samas',\n",
              " 'Seribu Batu Songgo Langit',\n",
              " 'Pantai Nglolang',\n",
              " 'Pantai Ngrenehan',\n",
              " 'Kali Talang',\n",
              " 'Pantai Kuwaru',\n",
              " 'Museum Batik Keraton Yogyakarta',\n",
              " 'Jogja Bay',\n",
              " 'Pintoe Langit Dahromo',\n",
              " 'Ramadanu flower garden',\n",
              " 'Desa Wisata Gamplong',\n",
              " 'Kawasan Pantai Baron',\n",
              " 'Pantai Ngobaran',\n",
              " 'Masjid Gedhe Kauman',\n",
              " 'Bukit Pengilon',\n",
              " 'Gunung Ireng Srumbung',\n",
              " 'Wisata Air Wanatirta Kencana',\n",
              " 'Museum Benteng Vredeburg',\n",
              " 'Malioboro',\n",
              " 'Taman Pelangi Jogja',\n",
              " 'Museum Perjuangan',\n",
              " 'Tebing Gunung Gajah',\n",
              " 'Heha Sky View',\n",
              " 'Kebun Teh Nglinggo',\n",
              " 'Pantai Siung',\n",
              " 'Taman Pintar Yogyakarta',\n",
              " 'Candi Prambanan',\n",
              " 'Bundaran UGM',\n",
              " 'Wisata Kalibiru',\n",
              " 'The Palace of Yogyakarta (Keraton Yogyakarta)',\n",
              " 'Museum HM Soeharto',\n",
              " 'Pantai Slili',\n",
              " 'Pantai Goa Cemara',\n",
              " 'Monumen Yogya Kembali',\n",
              " 'Desa Wisata Pentingsari',\n",
              " 'Puncak Kebun Buah Mangunan',\n",
              " 'XT Square',\n",
              " 'Embung Tambakboyo',\n",
              " 'Wana Tirta Mangrove Forests',\n",
              " 'Museum Factory Dan Kedai Chocolate Monggo',\n",
              " 'Blue Lagoon Jogja',\n",
              " 'Ratu Boko',\n",
              " 'Bukit Lintang Sewu',\n",
              " 'Bukit Teletubbies',\n",
              " 'Hutan Pinus Mangunan Dlingo',\n",
              " 'Pasar Kembang',\n",
              " 'Pantai Nglambor',\n",
              " 'Candi Plaosan',\n",
              " 'Lava Merapi and Alien Stone',\n",
              " 'Puncak Suroloyo',\n",
              " 'Pantai Wediombo',\n",
              " 'Museum Monumen Pangeran Diponegoro',\n",
              " 'Embung Nglanggeran',\n",
              " 'Watu Goyang',\n",
              " 'Selopamioro Adventure Park',\n",
              " 'Omah Petroek',\n",
              " 'Bukit Wisata Pulepayung',\n",
              " 'Pantai Sepanjang',\n",
              " 'Affandi Museum',\n",
              " 'Taman Wisata Kaliurang',\n",
              " 'Kebun Buah Mangunan',\n",
              " 'Grojogan Watu Purbo Bangunrejo',\n",
              " 'Goa Kiskendo',\n",
              " 'Goa Seplawan',\n",
              " 'Museum Wayang Kekayon',\n",
              " 'Pemecah Ombak Pantai Glagah',\n",
              " 'Pantai Glagah',\n",
              " 'Geoforest Watu Payung Turunan',\n",
              " 'Taman Sungai Mudal',\n",
              " 'Taman Sari',\n",
              " 'Candi Sewu',\n",
              " 'Pantai Pok Tunggal',\n",
              " 'Goa Jomblang',\n",
              " 'Pantai Watulawang',\n",
              " 'Central Museum of the Air Force Dirgantara Mandala',\n",
              " 'Kawasan Ekowisata Gunung Api Purba Nglanggeran',\n",
              " 'Bukit Panguk Kediwung',\n",
              " 'Pantai Ngetun',\n",
              " 'Fort Vredeburg Museum',\n",
              " 'Ngobaran Beach',\n",
              " 'Goa Selarong',\n",
              " 'CitraGrand Mutiara Waterpark Yogyakarta',\n",
              " 'Stonehenge Merapi',\n",
              " 'Pantai Drini',\n",
              " 'Pantai Ngedan',\n",
              " 'Jurang Tembelan Kanigoro',\n",
              " 'Galaxy Waterpark',\n",
              " 'The Lost World Castle',\n",
              " 'Kaliadem',\n",
              " 'Restoe Boemi Kreo',\n",
              " 'Sindu Kusuma Edupark (SKE)',\n",
              " 'Depok Beach',\n",
              " 'Museum Sandi',\n",
              " 'Candi Borobudur',\n",
              " 'Waduk Sermo',\n",
              " 'Pantai Indrayanti',\n",
              " 'Jogja Exotarium',\n",
              " 'Gunung Api Purba Nglanggeran',\n",
              " 'Bukit Klangon',\n",
              " 'Bendungan Kamijoro',\n",
              " 'Candi ASU Klaten',\n",
              " 'Sumur Gumuling',\n",
              " 'Taman Bunga Amarilis']"
            ]
          },
          "metadata": {
            "tags": []
          },
          "execution_count": 71
        }
      ]
    },
    {
      "cell_type": "markdown",
      "metadata": {
        "id": "MdHr9LvadTpd"
      },
      "source": [
        "### Rating Prediction for Destination not been Visited"
      ]
    },
    {
      "cell_type": "code",
      "metadata": {
        "colab": {
          "base_uri": "https://localhost:8080/"
        },
        "id": "Yrh0dbj9dbAc",
        "outputId": "5aaf26fe-de1d-4c7c-d3da-376a41cd7fdb"
      },
      "source": [
        "score = [model.predict(user_id, dest).est for dest in not_visited]\n",
        "score"
      ],
      "execution_count": 74,
      "outputs": [
        {
          "output_type": "execute_result",
          "data": {
            "text/plain": [
              "[4.758967795016171,\n",
              " 3.1004190479829674,\n",
              " 4.813548091408041,\n",
              " 4.240021125894259,\n",
              " 4.127863465287332,\n",
              " 4.319252418524183,\n",
              " 4.027115910106503,\n",
              " 3.118690481724633,\n",
              " 3.6574496700309957,\n",
              " 3.628578553467403,\n",
              " 3.8440653912511573,\n",
              " 5,\n",
              " 3.1798968202712343,\n",
              " 4.050994578972358,\n",
              " 3.617254911938588,\n",
              " 4.872777901486574,\n",
              " 4.787087611214819,\n",
              " 4.253654896073619,\n",
              " 2.4388029222818783,\n",
              " 3.6169532707882714,\n",
              " 4.761034286091654,\n",
              " 2.9446223125927995,\n",
              " 3.4218718673716175,\n",
              " 2.375682997602849,\n",
              " 3.7823423676435435,\n",
              " 2.751188040274676,\n",
              " 3.678907292477944,\n",
              " 3.7937278511624215,\n",
              " 2.570964598370316,\n",
              " 3.2973398424966276,\n",
              " 3.0645524739069203,\n",
              " 4.023590007036106,\n",
              " 4.538030285841904,\n",
              " 5,\n",
              " 3.9366539731162655,\n",
              " 3.427824171840004,\n",
              " 2.95073388916369,\n",
              " 4.3480100023238855,\n",
              " 3.6602959220636113,\n",
              " 2.8404277374772993,\n",
              " 4.84776275002435,\n",
              " 4.89092535121884,\n",
              " 3.978500177545079,\n",
              " 4.755306246257417,\n",
              " 2.582082673362963,\n",
              " 3.915721852129047,\n",
              " 2.035324952214552,\n",
              " 3.027276975478874,\n",
              " 2.4690575908820542,\n",
              " 2.48095450783519,\n",
              " 3.712009721200882,\n",
              " 3.5363530928528504,\n",
              " 3.8671798064818645,\n",
              " 3.6827927276519774,\n",
              " 3.0832669928823813,\n",
              " 3.6736138998845846,\n",
              " 2.5824491233033275,\n",
              " 3.566120687990521,\n",
              " 2.8056715252975115,\n",
              " 2.663448262331392,\n",
              " 3.5461632872965843,\n",
              " 2.744888577298548,\n",
              " 3.731630837612948,\n",
              " 3.054711616110162,\n",
              " 3.214929939916016,\n",
              " 2.965879464623056,\n",
              " 5,\n",
              " 3.295900953975219,\n",
              " 4.606072317298812,\n",
              " 2.5924607081819686,\n",
              " 2.893421332207173,\n",
              " 4.097463628850245,\n",
              " 3.7519985382379155,\n",
              " 2.3870860488110246,\n",
              " 4.002412754617228,\n",
              " 2.4678227333000535,\n",
              " 3.185374604512045,\n",
              " 2.7790434402421234,\n",
              " 4.451217760775092,\n",
              " 2.6738913389994505,\n",
              " 3.546491880057144,\n",
              " 4.295467096582797,\n",
              " 3.108634294211559,\n",
              " 4.706259922905144,\n",
              " 3.3398896091542403,\n",
              " 1.8420976915214569,\n",
              " 4.447940844814293,\n",
              " 3.562670551104328,\n",
              " 2.8957402747846483,\n",
              " 4.570164506036375,\n",
              " 2.043248696238099,\n",
              " 4.665095063490497,\n",
              " 2.8147302111187504,\n",
              " 3.6897476119453523,\n",
              " 3.908498920097993,\n",
              " 4.054067534151698,\n",
              " 2.302149396761112,\n",
              " 2.285995231051508,\n",
              " 3.9962327177265813,\n",
              " 4.118515558399863,\n",
              " 5,\n",
              " 4.406343995365156,\n",
              " 4.174459902208607,\n",
              " 3.4862416682883235,\n",
              " 3.177736267546403,\n",
              " 2.505754398271695,\n",
              " 3.5371208203746383,\n",
              " 3.188853657342268,\n",
              " 5,\n",
              " 3.22448864901082,\n",
              " 3.1682335934812413,\n",
              " 2.8071549545230297,\n",
              " 3.815357426179091,\n",
              " 3.7357317490736213,\n",
              " 3.2790763850387967,\n",
              " 5,\n",
              " 4.1333881716105845,\n",
              " 3.665462158759501,\n",
              " 4.395883033010854,\n",
              " 3.6351848725382867,\n",
              " 4.5066119983918185,\n",
              " 3.6532714780647675,\n",
              " 2.8563063726300792,\n",
              " 4.325308380107034,\n",
              " 3.02948350304968,\n",
              " 2.9712360256834613,\n",
              " 3.5216503214498984,\n",
              " 4.1050617692581985]"
            ]
          },
          "metadata": {
            "tags": []
          },
          "execution_count": 74
        }
      ]
    },
    {
      "cell_type": "markdown",
      "metadata": {
        "id": "qJLBEg1Nd47G"
      },
      "source": [
        "## ML Engineering: Collaborative Base Filtering"
      ]
    },
    {
      "cell_type": "code",
      "metadata": {
        "id": "yI1VahNMgPZr"
      },
      "source": [
        "import numpy as np\n",
        "import pandas as pd\n",
        "from surprise import Reader, Dataset, NMF\n",
        "\n",
        "class CollabRecSys:\n",
        "    def __init__(self, data):\n",
        "        self.df = pd.read_csv(data)\n",
        "        self.all_dest = self.df['nama'].unique()\n",
        "        self.model = None\n",
        "\n",
        "    def fit(self):\n",
        "        data = Dataset.load_from_df(self.df, Reader())\n",
        "        trainset = data.build_full_trainset()\n",
        "        self.model = NMF()\n",
        "        self.model.fit(trainset)\n",
        "\n",
        "    def recommend(self, user_id, topk=10):\n",
        "        visited = self.df[self.df.user_id == user_id].nama\n",
        "        not_visited = [dest for dest in self.all_dest if dest not in visited.values]\n",
        "        score = [model.predict(user_id, dest).est for dest in not_visited]\n",
        "\n",
        "        result = pd.DataFrame({'Destination': not_visited, 'Rating_Prediction':score})\n",
        "        result.sort_values(\"Rating_Prediction\", ascending=False, inplace=True)\n",
        "        return result.head(topk)"
      ],
      "execution_count": 76,
      "outputs": []
    },
    {
      "cell_type": "markdown",
      "metadata": {
        "id": "Zo_Ke8VNoNXY"
      },
      "source": [
        "## Testing Collaborative Filtering"
      ]
    },
    {
      "cell_type": "code",
      "metadata": {
        "id": "NRSiPygSileu"
      },
      "source": [
        "collabrecsys = CollabRecSys('destination_rating.csv')\n",
        "collabrecsys.fit()"
      ],
      "execution_count": 80,
      "outputs": []
    },
    {
      "cell_type": "code",
      "metadata": {
        "colab": {
          "base_uri": "https://localhost:8080/",
          "height": 359
        },
        "id": "lFEfDJMJnOHS",
        "outputId": "f0a0ee1c-0a87-4a34-f441-da9dee86ed81"
      },
      "source": [
        "collabrecsys.recommend(user_id=3)"
      ],
      "execution_count": 82,
      "outputs": [
        {
          "output_type": "execute_result",
          "data": {
            "text/html": [
              "<div>\n",
              "<style scoped>\n",
              "    .dataframe tbody tr th:only-of-type {\n",
              "        vertical-align: middle;\n",
              "    }\n",
              "\n",
              "    .dataframe tbody tr th {\n",
              "        vertical-align: top;\n",
              "    }\n",
              "\n",
              "    .dataframe thead th {\n",
              "        text-align: right;\n",
              "    }\n",
              "</style>\n",
              "<table border=\"1\" class=\"dataframe\">\n",
              "  <thead>\n",
              "    <tr style=\"text-align: right;\">\n",
              "      <th></th>\n",
              "      <th>Destination</th>\n",
              "      <th>Rating_Prediction</th>\n",
              "    </tr>\n",
              "  </thead>\n",
              "  <tbody>\n",
              "    <tr>\n",
              "      <th>35</th>\n",
              "      <td>Jogja Bay</td>\n",
              "      <td>5.000000</td>\n",
              "    </tr>\n",
              "    <tr>\n",
              "      <th>115</th>\n",
              "      <td>The Lost World Castle</td>\n",
              "      <td>5.000000</td>\n",
              "    </tr>\n",
              "    <tr>\n",
              "      <th>53</th>\n",
              "      <td>Taman Pintar Yogyakarta</td>\n",
              "      <td>5.000000</td>\n",
              "    </tr>\n",
              "    <tr>\n",
              "      <th>94</th>\n",
              "      <td>Pantai Glagah</td>\n",
              "      <td>5.000000</td>\n",
              "    </tr>\n",
              "    <tr>\n",
              "      <th>36</th>\n",
              "      <td>Pintoe Langit Dahromo</td>\n",
              "      <td>4.835789</td>\n",
              "    </tr>\n",
              "    <tr>\n",
              "      <th>86</th>\n",
              "      <td>Affandi Museum</td>\n",
              "      <td>4.805816</td>\n",
              "    </tr>\n",
              "    <tr>\n",
              "      <th>77</th>\n",
              "      <td>Puncak Suroloyo</td>\n",
              "      <td>4.721392</td>\n",
              "    </tr>\n",
              "    <tr>\n",
              "      <th>111</th>\n",
              "      <td>Pantai Drini</td>\n",
              "      <td>4.709163</td>\n",
              "    </tr>\n",
              "    <tr>\n",
              "      <th>65</th>\n",
              "      <td>Embung Tambakboyo</td>\n",
              "      <td>4.685134</td>\n",
              "    </tr>\n",
              "    <tr>\n",
              "      <th>34</th>\n",
              "      <td>Museum Batik Keraton Yogyakarta</td>\n",
              "      <td>4.632948</td>\n",
              "    </tr>\n",
              "  </tbody>\n",
              "</table>\n",
              "</div>"
            ],
            "text/plain": [
              "                         Destination  Rating_Prediction\n",
              "35                         Jogja Bay           5.000000\n",
              "115            The Lost World Castle           5.000000\n",
              "53           Taman Pintar Yogyakarta           5.000000\n",
              "94                     Pantai Glagah           5.000000\n",
              "36             Pintoe Langit Dahromo           4.835789\n",
              "86                    Affandi Museum           4.805816\n",
              "77                   Puncak Suroloyo           4.721392\n",
              "111                     Pantai Drini           4.709163\n",
              "65                 Embung Tambakboyo           4.685134\n",
              "34   Museum Batik Keraton Yogyakarta           4.632948"
            ]
          },
          "metadata": {
            "tags": []
          },
          "execution_count": 82
        }
      ]
    }
  ]
}